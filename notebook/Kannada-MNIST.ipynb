{
 "cells": [
  {
   "cell_type": "code",
   "execution_count": 1,
   "metadata": {
    "_cell_guid": "b1076dfc-b9ad-4769-8c92-a6c4dae69d19",
    "_uuid": "8f2839f25d086af736a60e9eeb907d3b93b6e0e5"
   },
   "outputs": [],
   "source": [
    "# This Python 3 environment comes with many helpful analytics libraries installed\n",
    "# It is defined by the kaggle/python docker image: https://github.com/kaggle/docker-python\n",
    "# For example, here's several helpful packages to load in \n",
    "\n",
    "import numpy as np # linear algebra\n",
    "import pandas as pd # data processing, CSV file I/O (e.g. pd.read_csv)\n",
    "\n",
    "# Input data files are available in the \"../input/\" directory.\n",
    "# For example, running this (by clicking run or pressing Shift+Enter) will list all files under the input directory\n",
    "\n",
    "import os\n",
    "#for dirname, _, filenames in os.walk('/kaggle/input'):\n",
    "#    for filename in filenames:\n",
    "#        print(os.path.join(dirname, filename))\n",
    "\n",
    "# Any results you write to the current directory are saved as output."
   ]
  },
  {
   "cell_type": "code",
   "execution_count": 18,
   "metadata": {
    "_cell_guid": "79c7e3d0-c299-4dcb-8224-4455121ee9b0",
    "_uuid": "d629ff2d2480ee46fbb7e2d37f6b5fab8052498a"
   },
   "outputs": [],
   "source": [
    "import os, sys, cv2, pickle\n",
    "from PIL import Image,ImageOps\n",
    "import matplotlib.pyplot as plt\n",
    "from progressbar import ProgressBar\n",
    "import random, itertools\n",
    "import seaborn as sns\n",
    "from sklearn.preprocessing import StandardScaler\n",
    "from sklearn import preprocessing, model_selection, metrics, feature_selection\n",
    "from sklearn import neighbors, linear_model, svm, tree, ensemble\n",
    "from sklearn.model_selection import GridSearchCV, learning_curve, train_test_split\n",
    "from sklearn.metrics import confusion_matrix\n",
    "from sklearn.metrics import accuracy_score, make_scorer, hamming_loss\n",
    "\n",
    "from keras.utils import to_categorical\n",
    "from keras.models import Model\n",
    "\n",
    "import tensorflow as tf\n",
    "config = tf.ConfigProto()\n",
    "config.gpu_options.allow_growth = True\n",
    "sess = tf.Session(config=config)\n",
    "\n",
    "#sess = tf.Session(config=tf.ConfigProto(log_device_placement=True))"
   ]
  },
  {
   "cell_type": "markdown",
   "metadata": {},
   "source": [
    "# Load dataset train"
   ]
  },
  {
   "cell_type": "code",
   "execution_count": 19,
   "metadata": {},
   "outputs": [],
   "source": [
    "train = pd.read_csv(\"../data/train.csv\", sep=\",\")\n",
    "test = pd.read_csv(\"../data/test.csv\", sep=\",\")\n",
    "dig_mnist = pd.read_csv(\"../data/Dig-MNIST.csv\", sep=\",\")\n",
    "sample_submission = pd.read_csv(\"../data/sample_submission.csv\", sep=\",\")"
   ]
  },
  {
   "cell_type": "markdown",
   "metadata": {},
   "source": [
    "# Get Class to create array for model"
   ]
  },
  {
   "cell_type": "code",
   "execution_count": 29,
   "metadata": {},
   "outputs": [],
   "source": [
    "class Create_Array:\n",
    "    def __init__(self, data, random_sample, random_state):\n",
    "        self.random_sample = random_sample\n",
    "        self.random_state = random_state\n",
    "        if random_sample == 1: self.data = data\n",
    "        else:\n",
    "            train_X, test_X, train_y, test_y = \\\n",
    "            train_test_split(data, data.label, test_size=random_sample, random_state=random_state, stratify=data.label)\n",
    "            test_X['label'] = test_y\n",
    "            self.data = test_X.reset_index(drop=\"index\")\n",
    "    def split_data(self, test_size, to_category):\n",
    "        self.test_size = test_size\n",
    "        train_X, test_X, train_y, test_y = \\\n",
    "        train_test_split(self.data.drop(columns=\"label\"), self.data.label, test_size=test_size, random_state=self.random_state, stratify=self.data.label)\n",
    "        train_X = train_X.reset_index(drop='index')\n",
    "        self.train_X = self.change_format_X(train_X)\n",
    "        test_X = test_X.reset_index(drop='index')\n",
    "        self.test_X = self.change_format_X(test_X)\n",
    "        train_y = train_y.reset_index(drop='index')\n",
    "        self.train_y = self.change_format_y(train_y, to_category)\n",
    "        test_y = test_y.reset_index(drop='index')\n",
    "        self.test_y = self.change_format_y(test_y, to_category)\n",
    "    def show_one_image(self, figsize):\n",
    "        plt.figure(figsize=figsize)\n",
    "        ind = random.sample(k=1, population=set(self.data.index))\n",
    "        img = self.data.loc[ind[0]][\"pixel0\":].values.reshape(28,28)\n",
    "        plt.imshow(img)\n",
    "        plt.title(\"label : {}\".format(self.data.loc[ind[0]][\"label\"]))\n",
    "        return plt\n",
    "    def show_multiple_images(self, seed, figsize):\n",
    "        random.seed(seed)\n",
    "        num_dict = dict()\n",
    "        for num in range(10):\n",
    "            ind = random.sample(k=1, population=set(self.data.loc[self.data.label==num].index))\n",
    "            num_dict[self.data.label[ind[0]]] = self.data.loc[ind[0]][\"pixel0\":].values.reshape(28,28)\n",
    "        plt.figure(figsize=figsize)\n",
    "        for k,v in num_dict.items():\n",
    "            plt.subplot(251+k)\n",
    "            plt.imshow(num_dict[k])\n",
    "            plt.title(\"label : {}\".format(k))\n",
    "    def change_format_X(self, data):\n",
    "        pbar = ProgressBar()\n",
    "        data_copy = data.copy()\n",
    "        for k in pbar(data_copy.index):\n",
    "            if k == 0:\n",
    "                dat_c = data_copy.loc[0][\"pixel0\":].values.reshape(28,28)\n",
    "                dat_c = np.expand_dims(dat_c, axis=2)\n",
    "                dat_c = np.expand_dims(dat_c, axis=0)\n",
    "            else:\n",
    "                k_ = data_copy.loc[k][\"pixel0\":].values.reshape(28,28)\n",
    "                k_ = np.expand_dims(k_, axis=2)\n",
    "                k_ = np.expand_dims(k_, axis=0)\n",
    "                dat_c = np.concatenate((dat_c, k_), axis=0)\n",
    "        return dat_c\n",
    "    def change_format_y(self, data, to_category):\n",
    "        self.to_category = to_category\n",
    "        pbar = ProgressBar()\n",
    "        #data_copy = data.copy()\n",
    "        y = []\n",
    "        if to_category:\n",
    "            for k in pbar(data.index):\n",
    "                y.append([data.loc[k]])\n",
    "            y = to_categorical(y)\n",
    "        else:\n",
    "            for k in pbar(data.index):\n",
    "                y.append(data.loc[k])\n",
    "            y = np.array(y)\n",
    "        return y"
   ]
  },
  {
   "cell_type": "code",
   "execution_count": 30,
   "metadata": {},
   "outputs": [
    {
     "name": "stderr",
     "output_type": "stream",
     "text": [
      "C:\\ProgramData\\Anaconda3\\lib\\site-packages\\ipykernel_launcher.py:8: SettingWithCopyWarning: \n",
      "A value is trying to be set on a copy of a slice from a DataFrame.\n",
      "Try using .loc[row_indexer,col_indexer] = value instead\n",
      "\n",
      "See the caveats in the documentation: http://pandas.pydata.org/pandas-docs/stable/user_guide/indexing.html#returning-a-view-versus-a-copy\n",
      "  \n"
     ]
    },
    {
     "data": {
      "text/plain": [
       "(1, 28, 28, 1)"
      ]
     },
     "execution_count": 30,
     "metadata": {},
     "output_type": "execute_result"
    }
   ],
   "source": [
    "dat = Create_Array(train, 0.1 , 123)\n",
    "\n",
    "dat_c = dat.data.loc[0][\"pixel0\":].values.reshape(28,28)\n",
    "dat_c = np.expand_dims(dat_c, axis=2)\n",
    "dat_c = np.expand_dims(dat_c, axis=0)\n",
    "dat_c.shape"
   ]
  },
  {
   "cell_type": "code",
   "execution_count": null,
   "metadata": {},
   "outputs": [],
   "source": []
  },
  {
   "cell_type": "code",
   "execution_count": 31,
   "metadata": {},
   "outputs": [
    {
     "name": "stderr",
     "output_type": "stream",
     "text": [
      "C:\\ProgramData\\Anaconda3\\lib\\site-packages\\ipykernel_launcher.py:8: SettingWithCopyWarning: \n",
      "A value is trying to be set on a copy of a slice from a DataFrame.\n",
      "Try using .loc[row_indexer,col_indexer] = value instead\n",
      "\n",
      "See the caveats in the documentation: http://pandas.pydata.org/pandas-docs/stable/user_guide/indexing.html#returning-a-view-versus-a-copy\n",
      "  \n"
     ]
    },
    {
     "data": {
      "image/png": "[encoded data removed]",
      "text/plain": [
       "<Figure size 216x216 with 1 Axes>"
      ]
     },
     "metadata": {},
     "output_type": "display_data"
    }
   ],
   "source": [
    "dat = Create_Array(train, 0.1, 123)\n",
    "_ = dat.show_one_image(figsize=(3,3))"
   ]
  },
  {
   "cell_type": "code",
   "execution_count": 32,
   "metadata": {},
   "outputs": [
    {
     "data": {
      "image/png": "[encoded data removed]",
      "text/plain": [
       "<Figure size 1080x504 with 10 Axes>"
      ]
     },
     "metadata": {},
     "output_type": "display_data"
    }
   ],
   "source": [
    "dat.show_multiple_images(figsize=(15,7), seed=654)"
   ]
  },
  {
   "cell_type": "code",
   "execution_count": 34,
   "metadata": {},
   "outputs": [
    {
     "name": "stderr",
     "output_type": "stream",
     "text": [
      "100% |########################################################################|\n",
      "100% |########################################################################|\n",
      "100% |########################################################################|\n",
      "100% |########################################################################|\n"
     ]
    }
   ],
   "source": [
    "dat.split_data(test_size=0.3, to_category=True)"
   ]
  },
  {
   "cell_type": "code",
   "execution_count": 36,
   "metadata": {},
   "outputs": [
    {
     "data": {
      "text/plain": [
       "(4200, 28, 28, 1)"
      ]
     },
     "execution_count": 36,
     "metadata": {},
     "output_type": "execute_result"
    }
   ],
   "source": [
    "dat.train_X.shape"
   ]
  },
  {
   "cell_type": "code",
   "execution_count": 37,
   "metadata": {},
   "outputs": [
    {
     "data": {
      "text/plain": [
       "(4200, 10)"
      ]
     },
     "execution_count": 37,
     "metadata": {},
     "output_type": "execute_result"
    }
   ],
   "source": [
    "dat.train_y.shape"
   ]
  },
  {
   "cell_type": "code",
   "execution_count": null,
   "metadata": {},
   "outputs": [],
   "source": []
  },
  {
   "cell_type": "code",
   "execution_count": null,
   "metadata": {},
   "outputs": [],
   "source": []
  },
  {
   "cell_type": "code",
   "execution_count": null,
   "metadata": {},
   "outputs": [],
   "source": []
  },
  {
   "cell_type": "code",
   "execution_count": null,
   "metadata": {},
   "outputs": [],
   "source": []
  },
  {
   "cell_type": "code",
   "execution_count": null,
   "metadata": {},
   "outputs": [],
   "source": []
  },
  {
   "cell_type": "code",
   "execution_count": null,
   "metadata": {},
   "outputs": [],
   "source": []
  }
 ],
 "metadata": {
  "kernelspec": {
   "display_name": "Python 3",
   "language": "python",
   "name": "python3"
  },
  "language_info": {
   "codemirror_mode": {
    "name": "ipython",
    "version": 3
   },
   "file_extension": ".py",
   "mimetype": "text/x-python",
   "name": "python",
   "nbconvert_exporter": "python",
   "pygments_lexer": "ipython3",
   "version": "3.6.5"
  }
 },
 "nbformat": 4,
 "nbformat_minor": 1
}

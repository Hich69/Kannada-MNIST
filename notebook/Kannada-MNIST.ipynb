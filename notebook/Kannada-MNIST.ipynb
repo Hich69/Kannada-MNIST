{
 "cells": [
  {
   "cell_type": "code",
   "execution_count": 1,
   "metadata": {
    "_cell_guid": "b1076dfc-b9ad-4769-8c92-a6c4dae69d19",
    "_uuid": "8f2839f25d086af736a60e9eeb907d3b93b6e0e5"
   },
   "outputs": [],
   "source": [
    "# This Python 3 environment comes with many helpful analytics libraries installed\n",
    "# It is defined by the kaggle/python docker image: https://github.com/kaggle/docker-python\n",
    "# For example, here's several helpful packages to load in \n",
    "\n",
    "import numpy as np # linear algebra\n",
    "import pandas as pd # data processing, CSV file I/O (e.g. pd.read_csv)\n",
    "\n",
    "# Input data files are available in the \"../input/\" directory.\n",
    "# For example, running this (by clicking run or pressing Shift+Enter) will list all files under the input directory\n",
    "\n",
    "import os\n",
    "#for dirname, _, filenames in os.walk('/kaggle/input'):\n",
    "#    for filename in filenames:\n",
    "#        print(os.path.join(dirname, filename))\n",
    "\n",
    "# Any results you write to the current directory are saved as output."
   ]
  },
  {
   "cell_type": "code",
   "execution_count": 2,
   "metadata": {
    "_cell_guid": "79c7e3d0-c299-4dcb-8224-4455121ee9b0",
    "_uuid": "d629ff2d2480ee46fbb7e2d37f6b5fab8052498a"
   },
   "outputs": [
    {
     "name": "stderr",
     "output_type": "stream",
     "text": [
      "C:\\Users\\HAZRAK\\AppData\\Local\\Continuum\\anaconda3\\lib\\site-packages\\sklearn\\ensemble\\weight_boosting.py:29: DeprecationWarning: numpy.core.umath_tests is an internal NumPy module and should not be imported. It will be removed in a future NumPy release.\n",
      "  from numpy.core.umath_tests import inner1d\n",
      "Using TensorFlow backend.\n"
     ]
    }
   ],
   "source": [
    "import os, sys, cv2, pickle\n",
    "from PIL import Image,ImageOps\n",
    "import matplotlib.pyplot as plt\n",
    "from progressbar import ProgressBar\n",
    "import random, itertools\n",
    "import seaborn as sns\n",
    "from sklearn.preprocessing import StandardScaler\n",
    "from sklearn import preprocessing, model_selection, metrics, feature_selection\n",
    "from sklearn import neighbors, linear_model, svm, tree, ensemble\n",
    "from sklearn.model_selection import GridSearchCV, learning_curve, train_test_split\n",
    "from sklearn.metrics import confusion_matrix\n",
    "from sklearn.metrics import accuracy_score, make_scorer, hamming_loss\n",
    "\n",
    "from keras.utils import to_categorical\n",
    "from keras.models import Model\n",
    "\n",
    "#import tensorflow as tf\n",
    "#config = tf.ConfigProto()\n",
    "#config.gpu_options.allow_growth = True\n",
    "#sess = tf.Session(config=config)\n",
    "\n",
    "#sess = tf.Session(config=tf.ConfigProto(log_device_placement=True))"
   ]
  },
  {
   "cell_type": "markdown",
   "metadata": {},
   "source": [
    "# Load dataset train"
   ]
  },
  {
   "cell_type": "code",
   "execution_count": 3,
   "metadata": {},
   "outputs": [],
   "source": [
    "train = pd.read_csv(\"../data/train.csv\", sep=\",\")\n",
    "test = pd.read_csv(\"../data/test.csv\", sep=\",\")\n",
    "dig_mnist = pd.read_csv(\"../data/Dig-MNIST.csv\", sep=\",\")\n",
    "sample_submission = pd.read_csv(\"../data/sample_submission.csv\", sep=\",\")"
   ]
  },
  {
   "cell_type": "markdown",
   "metadata": {},
   "source": [
    "# Get Class to create array for model"
   ]
  },
  {
   "cell_type": "code",
   "execution_count": 4,
   "metadata": {},
   "outputs": [],
   "source": [
    "class Create_Array:\n",
    "    def __init__(self, data, random_sample, random_state):\n",
    "        self.random_sample = random_sample\n",
    "        self.random_state = random_state\n",
    "        if random_sample == 1: self.data = data\n",
    "        else:\n",
    "            train_X, test_X, train_y, test_y = \\\n",
    "            train_test_split(data, data.label, test_size=random_sample, random_state=random_state, stratify=data.label)\n",
    "            test_X['label'] = test_y\n",
    "            self.data = test_X.reset_index(drop=\"index\")\n",
    "    def split_data(self, test_size, to_category):\n",
    "        self.test_size = test_size\n",
    "        train_X, test_X, train_y, test_y = \\\n",
    "        train_test_split(self.data.drop(columns=\"label\"), self.data.label, test_size=test_size, random_state=self.random_state, stratify=self.data.label)\n",
    "        train_X = train_X.reset_index(drop='index')\n",
    "        self.train_X = self.change_format_X(train_X)\n",
    "        test_X = test_X.reset_index(drop='index')\n",
    "        self.test_X = self.change_format_X(test_X)\n",
    "        train_y = train_y.reset_index(drop='index')\n",
    "        self.train_y = self.change_format_y(train_y, to_category)\n",
    "        test_y = test_y.reset_index(drop='index')\n",
    "        self.test_y = self.change_format_y(test_y, to_category)\n",
    "    def get_pie_chart(self, figsize):\n",
    "        label_dict = dict()\n",
    "        label_count = self.data.label.value_counts()\n",
    "        for k in label_count.index:\n",
    "            label_dict[label_count.index[k]] = label_count[k]\n",
    "        \n",
    "        def func(pct, allvals):\n",
    "            absolute = int(pct/100.*np.sum(allvals))\n",
    "            return \"{:0.0f}\\n{:0.2f} %\".format(absolute, pct)\n",
    "        \n",
    "        data = list(label_dict.values())\n",
    "        \n",
    "        fig, ax = plt.subplots(figsize=figsize, subplot_kw=dict(aspect=\"equal\"))\n",
    "        wedges, texts, autotexts = ax.pie(data, autopct=lambda pct: func(pct, data),\n",
    "                                          textprops=dict(color=\"w\"))\n",
    "        ax.legend(wedges, label_dict.keys(),\n",
    "                  title=\"Labels\",\n",
    "                  loc=\"center left\",\n",
    "                  bbox_to_anchor=(1, 0, 0.5, 1))\n",
    "        return fig\n",
    "    def show_one_image(self, figsize):\n",
    "        plt.figure(figsize=figsize)\n",
    "        ind = random.sample(k=1, population=set(self.data.index))\n",
    "        img = self.data.loc[ind[0]][\"pixel0\":].values.reshape(28,28)\n",
    "        plt.imshow(img)\n",
    "        plt.title(\"label : {}\".format(self.data.loc[ind[0]][\"label\"]))\n",
    "        return plt\n",
    "    def show_multiple_images(self, seed, figsize):\n",
    "        random.seed(seed)\n",
    "        num_dict = dict()\n",
    "        for num in range(10):\n",
    "            ind = random.sample(k=1, population=set(self.data.loc[self.data.label==num].index))\n",
    "            num_dict[self.data.label[ind[0]]] = self.data.loc[ind[0]][\"pixel0\":].values.reshape(28,28)\n",
    "        plt.figure(figsize=figsize)\n",
    "        for k,v in num_dict.items():\n",
    "            plt.subplot(251+k)\n",
    "            plt.imshow(num_dict[k])\n",
    "            plt.title(\"label : {}\".format(k))\n",
    "    def change_format_X(self, data):\n",
    "        #return data.values.reshape(data.shape[0], 28, 28, 1)\n",
    "        return data.values.reshape(data.shape[0], 28, 28).reshape(data.shape[0], 28, 28, 1)\n",
    "    def change_format_y(self, data, to_category):\n",
    "        self.to_category = to_category\n",
    "        pbar = ProgressBar()\n",
    "        #data_copy = data.copy()\n",
    "        y = []\n",
    "        if to_category:\n",
    "            for k in pbar(data.index):\n",
    "                y.append([data.loc[k]])\n",
    "            y = to_categorical(y)\n",
    "        else:\n",
    "            for k in pbar(data.index):\n",
    "                y.append(data.loc[k])\n",
    "            y = np.array(y)\n",
    "        return y"
   ]
  },
  {
   "cell_type": "code",
   "execution_count": 5,
   "metadata": {},
   "outputs": [
    {
     "data": {
      "image/png": "[encoded data removed]",
      "text/plain": [
       "<Figure size 720x504 with 1 Axes>"
      ]
     },
     "metadata": {},
     "output_type": "display_data"
    }
   ],
   "source": [
    "dat = Create_Array(train, 1, 123)\n",
    "_ = dat.get_pie_chart(figsize=(10,7))"
   ]
  },
  {
   "cell_type": "code",
   "execution_count": 6,
   "metadata": {},
   "outputs": [
    {
     "data": {
      "image/png": "[encoded data removed]",
      "text/plain": [
       "<Figure size 216x216 with 1 Axes>"
      ]
     },
     "metadata": {
      "needs_background": "light"
     },
     "output_type": "display_data"
    }
   ],
   "source": [
    "_ = dat.show_one_image(figsize=(3,3))"
   ]
  },
  {
   "cell_type": "code",
   "execution_count": 7,
   "metadata": {},
   "outputs": [],
   "source": [
    "#dat.show_multiple_images(figsize=(12,7), seed=933)"
   ]
  },
  {
   "cell_type": "code",
   "execution_count": 8,
   "metadata": {},
   "outputs": [
    {
     "name": "stderr",
     "output_type": "stream",
     "text": [
      "100% |########################################################################|\n",
      "100% |########################################################################|\n"
     ]
    }
   ],
   "source": [
    "dat.split_data(test_size=0.2, to_category=False)"
   ]
  },
  {
   "cell_type": "code",
   "execution_count": 9,
   "metadata": {},
   "outputs": [
    {
     "name": "stdout",
     "output_type": "stream",
     "text": [
      "(48000, 28, 28, 1)\n",
      "(12000, 28, 28, 1)\n"
     ]
    }
   ],
   "source": [
    "print(dat.train_X.shape)\n",
    "print(dat.test_X.shape)"
   ]
  },
  {
   "cell_type": "code",
   "execution_count": null,
   "metadata": {},
   "outputs": [],
   "source": []
  },
  {
   "cell_type": "markdown",
   "metadata": {},
   "source": [
    "# Create model of cnn"
   ]
  },
  {
   "cell_type": "code",
   "execution_count": 10,
   "metadata": {},
   "outputs": [],
   "source": [
    "def history_plot(history):\n",
    "    acc = history.history['acc']\n",
    "    val_acc = history.history['val_acc']\n",
    "    loss = history.history['loss']\n",
    "    val_loss = history.history['val_loss']\n",
    "    \n",
    "    epochs = range(len(acc))\n",
    "    \n",
    "    plt.figure(figsize=(10,5))\n",
    "    plt.subplot(1, 2, 1)\n",
    "    plt.plot(epochs, acc, 'b', label='Training acc')\n",
    "    plt.plot(epochs, val_acc, 'r', label='Validation acc')\n",
    "    plt.title('Training and validation accuracy')\n",
    "    plt.xlabel(\"epochs\")\n",
    "    plt.ylabel(\"accuracy\")\n",
    "    plt.legend()\n",
    "    plt.grid(True)\n",
    "    \n",
    "    #plt.figure()\n",
    "    \n",
    "    plt.subplot(1, 2, 2)\n",
    "    plt.plot(epochs, loss, 'b', label='Training loss')\n",
    "    plt.plot(epochs, val_loss, 'r', label='Validation loss')\n",
    "    plt.title('Training and validation loss')\n",
    "    plt.xlabel(\"epochs\")\n",
    "    plt.ylabel(\"loss\")\n",
    "    plt.legend()\n",
    "    plt.grid(True)\n",
    "    \n",
    "    #plt.show()\n",
    "    return plt"
   ]
  },
  {
   "cell_type": "code",
   "execution_count": 11,
   "metadata": {},
   "outputs": [],
   "source": [
    "# Confusion matrix\n",
    "def get_confusion_matrix(Y, y_pred, figsize=(7,7), dpi=90, normalize=False, title='Confusion matrix', cmap=plt.cm.Blues):\n",
    "        cnf_matrix = confusion_matrix(Y, y_pred)\n",
    "        \n",
    "        if normalize:\n",
    "            cnf_matrix = cnf_matrix.astype('float') / cnf_matrix.sum(axis=1)[:, np.newaxis]\n",
    "            print(\"Normalized confusion matrix\")\n",
    "        else:\n",
    "            print('Confusion matrix, without normalization')\n",
    "        \n",
    "        plt.figure(figsize=figsize, dpi=dpi)\n",
    "        plt.imshow(cnf_matrix, interpolation='nearest', cmap=cmap)\n",
    "        plt.title(title)\n",
    "        plt.colorbar()\n",
    "        tick_marks = np.arange(5)\n",
    "        plt.xticks(tick_marks, [0,1,2,3,4], rotation=0)\n",
    "        plt.yticks(tick_marks, [0,1,2,3,4])\n",
    "        \n",
    "        fmt = '.2f' if normalize else 'd'\n",
    "        thresh = cnf_matrix.max() / 2.\n",
    "        for i, j in itertools.product(range(cnf_matrix.shape[0]), range(cnf_matrix.shape[1])):\n",
    "            plt.text(j, i, format(cnf_matrix[i, j], fmt),\n",
    "                     horizontalalignment=\"center\",\n",
    "                     color=\"white\" if cnf_matrix[i, j] > thresh else \"black\")\n",
    "        \n",
    "        plt.tight_layout()\n",
    "        plt.ylabel('True label')\n",
    "        plt.xlabel('Predicted label')\n",
    "        return plt"
   ]
  },
  {
   "cell_type": "code",
   "execution_count": null,
   "metadata": {},
   "outputs": [],
   "source": []
  },
  {
   "cell_type": "code",
   "execution_count": 12,
   "metadata": {},
   "outputs": [],
   "source": [
    "# # Importing the required Keras modules containing model and layers\n",
    "# from keras.models import Sequential\n",
    "# from keras.layers import Dense, Conv2D, Dropout, Flatten, MaxPooling2D\n",
    "# # Creating a Sequential Model and adding the layers\n",
    "# model = Sequential()\n",
    "# model.add(Conv2D(28, kernel_size=(3,3), input_shape=(28,28,1)))\n",
    "# model.add(MaxPooling2D(pool_size=(2, 2)))\n",
    "# model.add(Conv2D(56, kernel_size=(3,3)))\n",
    "# model.add(MaxPooling2D(pool_size=(2, 2)))\n",
    "# model.add(Flatten()) # Flattening the 2D arrays for fully connected layers\n",
    "# model.add(Dense(128, activation=tf.nn.relu))\n",
    "# model.add(Dropout(0.4))\n",
    "# model.add(Dense(10,activation=tf.nn.softmax))"
   ]
  },
  {
   "cell_type": "code",
   "execution_count": 13,
   "metadata": {},
   "outputs": [
    {
     "name": "stdout",
     "output_type": "stream",
     "text": [
      "WARNING:tensorflow:From C:\\Users\\HAZRAK\\AppData\\Local\\Continuum\\anaconda3\\lib\\site-packages\\tensorflow\\python\\framework\\op_def_library.py:263: colocate_with (from tensorflow.python.framework.ops) is deprecated and will be removed in a future version.\n",
      "Instructions for updating:\n",
      "Colocations handled automatically by placer.\n",
      "WARNING:tensorflow:From C:\\Users\\HAZRAK\\AppData\\Local\\Continuum\\anaconda3\\lib\\site-packages\\keras\\backend\\tensorflow_backend.py:3445: calling dropout (from tensorflow.python.ops.nn_ops) with keep_prob is deprecated and will be removed in a future version.\n",
      "Instructions for updating:\n",
      "Please use `rate` instead of `keep_prob`. Rate should be set to `rate = 1 - keep_prob`.\n"
     ]
    }
   ],
   "source": [
    "from keras.models import Sequential\n",
    "from keras.layers import Dense, Conv2D, Dropout, Flatten, MaxPooling2D, BatchNormalization\n",
    "# Creating a Sequential Model and adding the layers\n",
    "model = Sequential()\n",
    "\n",
    "model.add(Conv2D(32,kernel_size=3,activation='relu',input_shape=(28,28,1)))\n",
    "model.add(BatchNormalization())\n",
    "model.add(Conv2D(32,kernel_size=3,activation='relu'))\n",
    "model.add(BatchNormalization())\n",
    "model.add(Conv2D(32,kernel_size=5,strides=2,padding='same',activation='relu'))\n",
    "model.add(BatchNormalization())\n",
    "model.add(Dropout(0.4))\n",
    "\n",
    "model.add(Conv2D(64,kernel_size=3,activation='relu'))\n",
    "model.add(BatchNormalization())\n",
    "model.add(Conv2D(64,kernel_size=3,activation='relu'))\n",
    "model.add(BatchNormalization())\n",
    "model.add(Conv2D(64,kernel_size=5,strides=2,padding='same',activation='relu'))\n",
    "model.add(BatchNormalization())\n",
    "model.add(Dropout(0.4))\n",
    "\n",
    "model.add(Flatten())\n",
    "model.add(Dense(128, activation='relu'))\n",
    "model.add(BatchNormalization())\n",
    "model.add(Dropout(0.4))\n",
    "model.add(Dense(10, activation='softmax'))"
   ]
  },
  {
   "cell_type": "code",
   "execution_count": 14,
   "metadata": {},
   "outputs": [
    {
     "name": "stdout",
     "output_type": "stream",
     "text": [
      "x_train shape: (48000, 28, 28, 1)\n",
      "Number of images in x_train 48000\n",
      "Number of images in x_test 12000\n"
     ]
    }
   ],
   "source": [
    "# Reshaping the array to 4-dims so that it can work with the Keras API\n",
    "#x_train = x_train.reshape(x_train.shape[0], 28, 28, 1)\n",
    "#x_test = x_test.reshape(x_test.shape[0], 28, 28, 1)\n",
    "x_train = dat.train_X\n",
    "x_test = dat.test_X\n",
    "y_train = dat.train_y\n",
    "y_test = dat.test_y\n",
    "input_shape = (1, 28, 28)\n",
    "# Making sure that the values are float so that we can get decimal points after division\n",
    "x_train = x_train.astype('float32')\n",
    "x_test = x_test.astype('float32')\n",
    "# Normalizing the RGB codes by dividing it to the max RGB value.\n",
    "x_train /= 255\n",
    "x_test /= 255\n",
    "print('x_train shape:', x_train.shape)\n",
    "print('Number of images in x_train', x_train.shape[0])\n",
    "print('Number of images in x_test', x_test.shape[0])"
   ]
  },
  {
   "cell_type": "code",
   "execution_count": null,
   "metadata": {},
   "outputs": [],
   "source": []
  },
  {
   "cell_type": "code",
   "execution_count": 15,
   "metadata": {
    "scrolled": true
   },
   "outputs": [],
   "source": [
    "def fit_model(model, epoch):\n",
    "    model.compile(optimizer=\"adam\",\n",
    "                  loss='sparse_categorical_crossentropy',\n",
    "                  metrics=['accuracy'])\n",
    "    \n",
    "    history = model.fit(x_train, y_train,\n",
    "                        nb_epoch=epoch,\n",
    "                        validation_data=(x_test, y_test),\n",
    "                        verbose=1)\n",
    "    return model, history"
   ]
  },
  {
   "cell_type": "code",
   "execution_count": 16,
   "metadata": {
    "scrolled": true
   },
   "outputs": [
    {
     "name": "stdout",
     "output_type": "stream",
     "text": [
      "WARNING:tensorflow:From C:\\Users\\HAZRAK\\AppData\\Local\\Continuum\\anaconda3\\lib\\site-packages\\tensorflow\\python\\ops\\math_ops.py:3066: to_int32 (from tensorflow.python.ops.math_ops) is deprecated and will be removed in a future version.\n",
      "Instructions for updating:\n",
      "Use tf.cast instead.\n"
     ]
    },
    {
     "name": "stderr",
     "output_type": "stream",
     "text": [
      "C:\\Users\\HAZRAK\\AppData\\Local\\Continuum\\anaconda3\\lib\\site-packages\\ipykernel_launcher.py:9: UserWarning: The `nb_epoch` argument in `fit` has been renamed `epochs`.\n",
      "  if __name__ == '__main__':\n"
     ]
    },
    {
     "name": "stdout",
     "output_type": "stream",
     "text": [
      "Train on 48000 samples, validate on 12000 samples\n",
      "Epoch 1/10\n",
      "48000/48000 [==============================] - 185s 4ms/step - loss: 0.1495 - acc: 0.9548 - val_loss: 0.0288 - val_acc: 0.9912\n",
      "Epoch 2/10\n",
      "48000/48000 [==============================] - 187s 4ms/step - loss: 0.0472 - acc: 0.9862 - val_loss: 0.0393 - val_acc: 0.9870\n",
      "Epoch 3/10\n",
      "48000/48000 [==============================] - 200s 4ms/step - loss: 0.0385 - acc: 0.9886 - val_loss: 0.0224 - val_acc: 0.9920\n",
      "Epoch 4/10\n",
      "48000/48000 [==============================] - 192s 4ms/step - loss: 0.0321 - acc: 0.9906 - val_loss: 0.0170 - val_acc: 0.9957\n",
      "Epoch 5/10\n",
      "48000/48000 [==============================] - 185s 4ms/step - loss: 0.0271 - acc: 0.9918 - val_loss: 0.0254 - val_acc: 0.9912\n",
      "Epoch 6/10\n",
      "48000/48000 [==============================] - 183s 4ms/step - loss: 0.0254 - acc: 0.9923 - val_loss: 0.0153 - val_acc: 0.9953\n",
      "Epoch 7/10\n",
      "48000/48000 [==============================] - 185s 4ms/step - loss: 0.0235 - acc: 0.9932 - val_loss: 0.0128 - val_acc: 0.9961\n",
      "Epoch 8/10\n",
      "48000/48000 [==============================] - 183s 4ms/step - loss: 0.0183 - acc: 0.9945 - val_loss: 0.0139 - val_acc: 0.9962\n",
      "Epoch 9/10\n",
      "48000/48000 [==============================] - 188s 4ms/step - loss: 0.0191 - acc: 0.9945 - val_loss: 0.0147 - val_acc: 0.9956\n",
      "Epoch 10/10\n",
      "48000/48000 [==============================] - 185s 4ms/step - loss: 0.0185 - acc: 0.9945 - val_loss: 0.0141 - val_acc: 0.9958\n"
     ]
    }
   ],
   "source": [
    "model, history = fit_model(model=model, epoch=10)"
   ]
  },
  {
   "cell_type": "code",
   "execution_count": 17,
   "metadata": {},
   "outputs": [
    {
     "data": {
      "image/png": "[encoded data removed]",
      "text/plain": [
       "<Figure size 720x360 with 2 Axes>"
      ]
     },
     "metadata": {
      "needs_background": "light"
     },
     "output_type": "display_data"
    }
   ],
   "source": [
    "_ = history_plot(history)"
   ]
  },
  {
   "cell_type": "code",
   "execution_count": 18,
   "metadata": {},
   "outputs": [
    {
     "name": "stdout",
     "output_type": "stream",
     "text": [
      "12000/12000 [==============================] - ETA:  - 16s 1ms/step\n"
     ]
    },
    {
     "data": {
      "text/plain": [
       "[0.014108751100303683, 0.99575]"
      ]
     },
     "execution_count": 18,
     "metadata": {},
     "output_type": "execute_result"
    }
   ],
   "source": [
    "model.evaluate(x_test, y_test)"
   ]
  },
  {
   "cell_type": "code",
   "execution_count": 19,
   "metadata": {
    "scrolled": true
   },
   "outputs": [
    {
     "name": "stdout",
     "output_type": "stream",
     "text": [
      "_________________________________________________________________\n",
      "Layer (type)                 Output Shape              Param #   \n",
      "=================================================================\n",
      "conv2d_1 (Conv2D)            (None, 26, 26, 32)        320       \n",
      "_________________________________________________________________\n",
      "batch_normalization_1 (Batch (None, 26, 26, 32)        128       \n",
      "_________________________________________________________________\n",
      "conv2d_2 (Conv2D)            (None, 24, 24, 32)        9248      \n",
      "_________________________________________________________________\n",
      "batch_normalization_2 (Batch (None, 24, 24, 32)        128       \n",
      "_________________________________________________________________\n",
      "conv2d_3 (Conv2D)            (None, 12, 12, 32)        25632     \n",
      "_________________________________________________________________\n",
      "batch_normalization_3 (Batch (None, 12, 12, 32)        128       \n",
      "_________________________________________________________________\n",
      "dropout_1 (Dropout)          (None, 12, 12, 32)        0         \n",
      "_________________________________________________________________\n",
      "conv2d_4 (Conv2D)            (None, 10, 10, 64)        18496     \n",
      "_________________________________________________________________\n",
      "batch_normalization_4 (Batch (None, 10, 10, 64)        256       \n",
      "_________________________________________________________________\n",
      "conv2d_5 (Conv2D)            (None, 8, 8, 64)          36928     \n",
      "_________________________________________________________________\n",
      "batch_normalization_5 (Batch (None, 8, 8, 64)          256       \n",
      "_________________________________________________________________\n",
      "conv2d_6 (Conv2D)            (None, 4, 4, 64)          102464    \n",
      "_________________________________________________________________\n",
      "batch_normalization_6 (Batch (None, 4, 4, 64)          256       \n",
      "_________________________________________________________________\n",
      "dropout_2 (Dropout)          (None, 4, 4, 64)          0         \n",
      "_________________________________________________________________\n",
      "flatten_1 (Flatten)          (None, 1024)              0         \n",
      "_________________________________________________________________\n",
      "dense_1 (Dense)              (None, 128)               131200    \n",
      "_________________________________________________________________\n",
      "batch_normalization_7 (Batch (None, 128)               512       \n",
      "_________________________________________________________________\n",
      "dropout_3 (Dropout)          (None, 128)               0         \n",
      "_________________________________________________________________\n",
      "dense_2 (Dense)              (None, 10)                1290      \n",
      "=================================================================\n",
      "Total params: 327,242\n",
      "Trainable params: 326,410\n",
      "Non-trainable params: 832\n",
      "_________________________________________________________________\n"
     ]
    }
   ],
   "source": [
    "model.summary()"
   ]
  },
  {
   "cell_type": "code",
   "execution_count": 20,
   "metadata": {},
   "outputs": [
    {
     "data": {
      "text/plain": [
       "<tf.Tensor 'conv2d_1_input:0' shape=(?, 28, 28, 1) dtype=float32>"
      ]
     },
     "execution_count": 20,
     "metadata": {},
     "output_type": "execute_result"
    }
   ],
   "source": [
    "model.get_layer('flatten_1').output\n",
    "model.input"
   ]
  },
  {
   "cell_type": "code",
   "execution_count": 21,
   "metadata": {},
   "outputs": [],
   "source": [
    "from keras import models\n",
    "from keras.models import Model\n",
    "from keras.models import load_model\n",
    "\n",
    "model_ = models.Sequential()\n",
    "model_.add(Model(inputs=model.input, outputs=model.get_layer('flatten_1').output))"
   ]
  },
  {
   "cell_type": "code",
   "execution_count": 22,
   "metadata": {},
   "outputs": [
    {
     "data": {
      "text/plain": [
       "(60000, 1024)"
      ]
     },
     "execution_count": 22,
     "metadata": {},
     "output_type": "execute_result"
    }
   ],
   "source": [
    "model_.predict(x=dat.data.drop(columns=\"label\").values.reshape(60000, 28, 28).reshape(60000, 28, 28, 1)).shape"
   ]
  },
  {
   "cell_type": "code",
   "execution_count": 23,
   "metadata": {},
   "outputs": [
    {
     "name": "stderr",
     "output_type": "stream",
     "text": [
      "C:\\Users\\HAZRAK\\AppData\\Local\\Continuum\\anaconda3\\lib\\site-packages\\keras\\engine\\sequential.py:247: UserWarning: Network returning invalid probability values. The last layer might not normalize predictions into probabilities (like softmax or sigmoid would).\n",
      "  warnings.warn('Network returning invalid probability values. '\n"
     ]
    }
   ],
   "source": [
    "predicted_features = model_.predict_proba(dat.data.drop(columns=\"label\").values.reshape(60000, 28, 28).reshape(60000, 28, 28, 1))\n",
    "predicted_label = model.predict_classes(dat.data.drop(columns=\"label\").values.reshape(60000, 28, 28).reshape(60000, 28, 28, 1))"
   ]
  },
  {
   "cell_type": "code",
   "execution_count": 24,
   "metadata": {},
   "outputs": [
    {
     "name": "stdout",
     "output_type": "stream",
     "text": [
      "Confusion matrix, without normalization\n"
     ]
    },
    {
     "data": {
      "image/png": "[encoded data removed]",
      "text/plain": [
       "<Figure size 450x450 with 2 Axes>"
      ]
     },
     "metadata": {
      "needs_background": "light"
     },
     "output_type": "display_data"
    }
   ],
   "source": [
    "_ = get_confusion_matrix(Y=dat.data.label.values, y_pred=predicted_label, normalize=False, dpi=75, figsize=(6,6))"
   ]
  },
  {
   "cell_type": "code",
   "execution_count": null,
   "metadata": {},
   "outputs": [],
   "source": []
  },
  {
   "cell_type": "markdown",
   "metadata": {},
   "source": [
    "# Prediction of features from cnn model"
   ]
  },
  {
   "cell_type": "code",
   "execution_count": 13,
   "metadata": {},
   "outputs": [],
   "source": [
    "class Model_Multiclass:\n",
    "    def __init__(self,data,seed,random_sample):\n",
    "        self.random_sample = random_sample\n",
    "        self.seed = seed\n",
    "        self.data = data.sample(frac=self.random_sample, replace=False, random_state=self.seed)\n",
    "    def split(self, test_size):\n",
    "        self.test_size = test_size\n",
    "        train_X, test_X, train_y, test_y = train_test_split(self.data,self.data['target'], test_size = test_size, random_state=self.seed)\n",
    "        self.train_X = train_X.drop(columns=['target'])\n",
    "        self.test_X = test_X.drop(columns=['target'])\n",
    "        self.train_y = train_y\n",
    "        self.test_y = test_y\n",
    "    def model_LR(self,n_jobs,cv,regul,param_grid):\n",
    "        self.regul = regul\n",
    "        if regul=='none':\n",
    "            model = linear_model.SGDClassifier(loss='log', random_state=0, penalty=self.regul)\n",
    "            grid = GridSearchCV(estimator=model, param_grid=param_grid, scoring='accuracy', n_jobs=n_jobs, cv=cv, verbose=1)\n",
    "            grid.fit(self.train_X,self.train_y)\n",
    "            self.grid = grid\n",
    "        elif regul=='elasticnet':\n",
    "            model = linear_model.SGDClassifier(loss='log', random_state=0, penalty=self.regul,max_iter=5000)\n",
    "            grid = GridSearchCV(estimator=model, param_grid=param_grid, scoring='accuracy', n_jobs=n_jobs, cv=cv, verbose=1)\n",
    "            grid.fit(self.train_X,self.train_y)\n",
    "            self.grid = grid\n",
    "    def model_GB(self,n_jobs,cv,param_grid):\n",
    "        model = ensemble.GradientBoostingClassifier()\n",
    "        grid = GridSearchCV(estimator=model, param_grid=param_grid, scoring='accuracy', n_jobs=n_jobs, cv=cv, verbose=1)\n",
    "        grid.fit(self.train_X,self.train_y)\n",
    "        self.grid = grid\n",
    "    def model_KNN(self,n_jobs,cv,param_grid):\n",
    "        model = neighbors.KNeighborsClassifier()\n",
    "        grid = GridSearchCV(estimator=model, param_grid=param_grid, scoring='accuracy', n_jobs=n_jobs, cv=cv, verbose=1)\n",
    "        grid.fit(self.train_X,self.train_y)\n",
    "        self.grid = grid\n",
    "    def model_RF(self,n_jobs,cv,param_grid):\n",
    "        model = ensemble.RandomForestClassifier()\n",
    "        grid = GridSearchCV(estimator=model, param_grid=param_grid, scoring='accuracy', n_jobs=n_jobs, cv=cv, verbose=1)\n",
    "        grid.fit(self.train_X,self.train_y)\n",
    "        self.grid = grid\n",
    "    def predict(self):\n",
    "        self.pred_train = self.grid.best_estimator_.predict(X=self.train_X)\n",
    "        self.pred_test = self.grid.best_estimator_.predict(X=self.test_X)\n",
    "    ### get contingency table + recall precision + roc curve !!!\n",
    "    def confusion(self,set_):\n",
    "        if set_ == \"train\":\n",
    "            res = metrics.confusion_matrix(y_true=self.train_y,y_pred=self.pred_train)\n",
    "        elif set_ == \"test\":\n",
    "            res = metrics.confusion_matrix(y_true=self.test_y,y_pred=self.pred_test)\n",
    "        return res\n",
    "    def getAccuracy(self):\n",
    "        res=(metrics.accuracy_score(y_true=self.train_y,y_pred=self.pred_train),\n",
    "            metrics.accuracy_score(y_true=self.test_y,y_pred=self.pred_test))\n",
    "        return res"
   ]
  },
  {
   "cell_type": "code",
   "execution_count": 134,
   "metadata": {},
   "outputs": [],
   "source": [
    "# get features from cnn\n",
    "dat_features = model_.predict(x=dat.data.drop(columns=\"label\").values.reshape(60000, 28, 28).reshape(60000, 28, 28, 1))"
   ]
  },
  {
   "cell_type": "code",
   "execution_count": 135,
   "metadata": {},
   "outputs": [
    {
     "data": {
      "text/html": [
       "<div>\n",
       "<style scoped>\n",
       "    .dataframe tbody tr th:only-of-type {\n",
       "        vertical-align: middle;\n",
       "    }\n",
       "\n",
       "    .dataframe tbody tr th {\n",
       "        vertical-align: top;\n",
       "    }\n",
       "\n",
       "    .dataframe thead th {\n",
       "        text-align: right;\n",
       "    }\n",
       "</style>\n",
       "<table border=\"1\" class=\"dataframe\">\n",
       "  <thead>\n",
       "    <tr style=\"text-align: right;\">\n",
       "      <th></th>\n",
       "      <th>f0</th>\n",
       "      <th>f1</th>\n",
       "      <th>f2</th>\n",
       "      <th>f3</th>\n",
       "      <th>f4</th>\n",
       "      <th>f5</th>\n",
       "      <th>f6</th>\n",
       "      <th>f7</th>\n",
       "      <th>f8</th>\n",
       "      <th>f9</th>\n",
       "      <th>...</th>\n",
       "      <th>f341</th>\n",
       "      <th>f342</th>\n",
       "      <th>f343</th>\n",
       "      <th>f344</th>\n",
       "      <th>f345</th>\n",
       "      <th>f346</th>\n",
       "      <th>f347</th>\n",
       "      <th>f348</th>\n",
       "      <th>f349</th>\n",
       "      <th>target</th>\n",
       "    </tr>\n",
       "  </thead>\n",
       "  <tbody>\n",
       "    <tr>\n",
       "      <td>0</td>\n",
       "      <td>-0.13509</td>\n",
       "      <td>-0.160364</td>\n",
       "      <td>-0.250591</td>\n",
       "      <td>-0.288963</td>\n",
       "      <td>-0.385382</td>\n",
       "      <td>0.004082</td>\n",
       "      <td>-0.015994</td>\n",
       "      <td>-0.382615</td>\n",
       "      <td>-0.302828</td>\n",
       "      <td>-0.144999</td>\n",
       "      <td>...</td>\n",
       "      <td>-14.063784</td>\n",
       "      <td>6.479705</td>\n",
       "      <td>240.675049</td>\n",
       "      <td>-54.391491</td>\n",
       "      <td>56.767456</td>\n",
       "      <td>2.470936</td>\n",
       "      <td>6.825625</td>\n",
       "      <td>167.088318</td>\n",
       "      <td>15.571436</td>\n",
       "      <td>0</td>\n",
       "    </tr>\n",
       "    <tr>\n",
       "      <td>1</td>\n",
       "      <td>-0.13509</td>\n",
       "      <td>-0.160364</td>\n",
       "      <td>-0.250591</td>\n",
       "      <td>-0.288963</td>\n",
       "      <td>-0.385382</td>\n",
       "      <td>0.004082</td>\n",
       "      <td>-0.015994</td>\n",
       "      <td>-0.382615</td>\n",
       "      <td>-0.302828</td>\n",
       "      <td>-0.144999</td>\n",
       "      <td>...</td>\n",
       "      <td>192.262329</td>\n",
       "      <td>-14.244569</td>\n",
       "      <td>563.911499</td>\n",
       "      <td>73.047920</td>\n",
       "      <td>151.072128</td>\n",
       "      <td>-18.337658</td>\n",
       "      <td>3.003354</td>\n",
       "      <td>70.379250</td>\n",
       "      <td>35.705208</td>\n",
       "      <td>1</td>\n",
       "    </tr>\n",
       "    <tr>\n",
       "      <td>2</td>\n",
       "      <td>-0.13509</td>\n",
       "      <td>-0.160364</td>\n",
       "      <td>-0.250591</td>\n",
       "      <td>-0.288963</td>\n",
       "      <td>-0.385382</td>\n",
       "      <td>0.004082</td>\n",
       "      <td>-0.015994</td>\n",
       "      <td>-0.382615</td>\n",
       "      <td>-0.302828</td>\n",
       "      <td>-0.144999</td>\n",
       "      <td>...</td>\n",
       "      <td>144.073456</td>\n",
       "      <td>245.908234</td>\n",
       "      <td>19.961300</td>\n",
       "      <td>270.315979</td>\n",
       "      <td>10.954406</td>\n",
       "      <td>-66.891533</td>\n",
       "      <td>89.689415</td>\n",
       "      <td>226.416473</td>\n",
       "      <td>23.538467</td>\n",
       "      <td>2</td>\n",
       "    </tr>\n",
       "    <tr>\n",
       "      <td>3</td>\n",
       "      <td>-0.13509</td>\n",
       "      <td>-0.160364</td>\n",
       "      <td>-0.250591</td>\n",
       "      <td>-0.288963</td>\n",
       "      <td>-0.385382</td>\n",
       "      <td>0.004082</td>\n",
       "      <td>-0.015994</td>\n",
       "      <td>-0.382615</td>\n",
       "      <td>-0.302828</td>\n",
       "      <td>-0.144999</td>\n",
       "      <td>...</td>\n",
       "      <td>0.004082</td>\n",
       "      <td>-0.015994</td>\n",
       "      <td>62.841129</td>\n",
       "      <td>-0.302828</td>\n",
       "      <td>402.546997</td>\n",
       "      <td>116.740067</td>\n",
       "      <td>227.808563</td>\n",
       "      <td>0.065446</td>\n",
       "      <td>76.343040</td>\n",
       "      <td>3</td>\n",
       "    </tr>\n",
       "    <tr>\n",
       "      <td>4</td>\n",
       "      <td>-0.13509</td>\n",
       "      <td>-0.160364</td>\n",
       "      <td>-0.250591</td>\n",
       "      <td>-0.288963</td>\n",
       "      <td>-0.385382</td>\n",
       "      <td>0.004082</td>\n",
       "      <td>-0.015994</td>\n",
       "      <td>-0.382615</td>\n",
       "      <td>-0.302828</td>\n",
       "      <td>-0.144999</td>\n",
       "      <td>...</td>\n",
       "      <td>0.004082</td>\n",
       "      <td>10.549805</td>\n",
       "      <td>-0.382615</td>\n",
       "      <td>-0.302828</td>\n",
       "      <td>40.766087</td>\n",
       "      <td>12.286865</td>\n",
       "      <td>-0.079779</td>\n",
       "      <td>87.579750</td>\n",
       "      <td>38.475342</td>\n",
       "      <td>4</td>\n",
       "    </tr>\n",
       "  </tbody>\n",
       "</table>\n",
       "<p>5 rows × 351 columns</p>\n",
       "</div>"
      ],
      "text/plain": [
       "        f0        f1        f2        f3        f4        f5        f6  \\\n",
       "0 -0.13509 -0.160364 -0.250591 -0.288963 -0.385382  0.004082 -0.015994   \n",
       "1 -0.13509 -0.160364 -0.250591 -0.288963 -0.385382  0.004082 -0.015994   \n",
       "2 -0.13509 -0.160364 -0.250591 -0.288963 -0.385382  0.004082 -0.015994   \n",
       "3 -0.13509 -0.160364 -0.250591 -0.288963 -0.385382  0.004082 -0.015994   \n",
       "4 -0.13509 -0.160364 -0.250591 -0.288963 -0.385382  0.004082 -0.015994   \n",
       "\n",
       "         f7        f8        f9  ...        f341        f342        f343  \\\n",
       "0 -0.382615 -0.302828 -0.144999  ...  -14.063784    6.479705  240.675049   \n",
       "1 -0.382615 -0.302828 -0.144999  ...  192.262329  -14.244569  563.911499   \n",
       "2 -0.382615 -0.302828 -0.144999  ...  144.073456  245.908234   19.961300   \n",
       "3 -0.382615 -0.302828 -0.144999  ...    0.004082   -0.015994   62.841129   \n",
       "4 -0.382615 -0.302828 -0.144999  ...    0.004082   10.549805   -0.382615   \n",
       "\n",
       "         f344        f345        f346        f347        f348       f349  \\\n",
       "0  -54.391491   56.767456    2.470936    6.825625  167.088318  15.571436   \n",
       "1   73.047920  151.072128  -18.337658    3.003354   70.379250  35.705208   \n",
       "2  270.315979   10.954406  -66.891533   89.689415  226.416473  23.538467   \n",
       "3   -0.302828  402.546997  116.740067  227.808563    0.065446  76.343040   \n",
       "4   -0.302828   40.766087   12.286865   -0.079779   87.579750  38.475342   \n",
       "\n",
       "   target  \n",
       "0       0  \n",
       "1       1  \n",
       "2       2  \n",
       "3       3  \n",
       "4       4  \n",
       "\n",
       "[5 rows x 351 columns]"
      ]
     },
     "execution_count": 135,
     "metadata": {},
     "output_type": "execute_result"
    }
   ],
   "source": [
    "dat_features_df = pd.DataFrame(data=dat_features, columns=[\"f\"+str(f) for f in range(dat_features.shape[1])])\n",
    "dat_features_df[\"target\"] = dat.data[\"label\"]\n",
    "dat_features_df.head()"
   ]
  },
  {
   "cell_type": "code",
   "execution_count": 14,
   "metadata": {},
   "outputs": [],
   "source": [
    "dat_features_df = pd.read_pickle(\"../data/data_cnn.pkl\")"
   ]
  },
  {
   "cell_type": "code",
   "execution_count": 15,
   "metadata": {},
   "outputs": [
    {
     "data": {
      "text/plain": [
       "(60000, 1025)"
      ]
     },
     "execution_count": 15,
     "metadata": {},
     "output_type": "execute_result"
    }
   ],
   "source": [
    "lr = Model_Multiclass(data=dat_features_df,seed=123,random_sample=1)\n",
    "lr.split(test_size=0.2)\n",
    "lr.data.shape"
   ]
  },
  {
   "cell_type": "code",
   "execution_count": 16,
   "metadata": {},
   "outputs": [
    {
     "name": "stdout",
     "output_type": "stream",
     "text": [
      "Fitting 3 folds for each of 10 candidates, totalling 30 fits\n"
     ]
    },
    {
     "name": "stderr",
     "output_type": "stream",
     "text": [
      "[Parallel(n_jobs=40)]: Using backend LokyBackend with 40 concurrent workers.\n",
      "[Parallel(n_jobs=40)]: Done  13 out of  30 | elapsed: 189.0min remaining: 247.2min\n",
      "[Parallel(n_jobs=40)]: Done  30 out of  30 | elapsed: 319.5min finished\n",
      "C:\\Users\\hazrak\\AppData\\Local\\Continuum\\anaconda3\\lib\\site-packages\\sklearn\\linear_model\\stochastic_gradient.py:183: FutureWarning: max_iter and tol parameters have been added in SGDClassifier in 0.19. If max_iter is set but tol is left unset, the default value for tol in 0.19 and 0.20 will be None (which is equivalent to -infinity, so it has no effect) but will change in 0.21 to 1e-3. Specify tol to silence this warning.\n",
      "  FutureWarning)\n"
     ]
    }
   ],
   "source": [
    "param_grid = {\"alpha\": np.logspace(-2, 0.1, 2),\n",
    "              \"l1_ratio\": np.array([0, 0.3, 0.5, 0.7, 1])}\n",
    "lr.model_LR(n_jobs=40,cv=3,regul=\"elasticnet\",param_grid=param_grid)\n",
    "lr.predict()"
   ]
  },
  {
   "cell_type": "code",
   "execution_count": 18,
   "metadata": {},
   "outputs": [
    {
     "data": {
      "text/plain": [
       "{'alpha': 1.2589254117941673, 'l1_ratio': 0.0}"
      ]
     },
     "execution_count": 18,
     "metadata": {},
     "output_type": "execute_result"
    }
   ],
   "source": [
    "lr.grid.best_params_"
   ]
  },
  {
   "cell_type": "code",
   "execution_count": 19,
   "metadata": {},
   "outputs": [
    {
     "data": {
      "text/plain": [
       "(0.9981458333333333, 0.9965833333333334)"
      ]
     },
     "execution_count": 19,
     "metadata": {},
     "output_type": "execute_result"
    }
   ],
   "source": [
    "lr.getAccuracy()"
   ]
  },
  {
   "cell_type": "code",
   "execution_count": 22,
   "metadata": {},
   "outputs": [],
   "source": [
    "pd.to_pickle(lr.grid, \"model_lr.pkl\")"
   ]
  },
  {
   "cell_type": "markdown",
   "metadata": {},
   "source": [
    "# test : cnn, cnn+lr on a sample 50%"
   ]
  },
  {
   "cell_type": "code",
   "execution_count": 31,
   "metadata": {},
   "outputs": [],
   "source": [
    "lr_model = pd.read_pickle(\"../notebook/model_lr.pkl\")"
   ]
  },
  {
   "cell_type": "code",
   "execution_count": 51,
   "metadata": {},
   "outputs": [
    {
     "data": {
      "text/plain": [
       "label\n",
       "0    1805\n",
       "1    1818\n",
       "2    1793\n",
       "3    1774\n",
       "4    1753\n",
       "5    1872\n",
       "6    1752\n",
       "7    1831\n",
       "8    1724\n",
       "9    1878\n",
       "Name: label, dtype: int64"
      ]
     },
     "execution_count": 51,
     "metadata": {},
     "output_type": "execute_result"
    }
   ],
   "source": [
    "data_sample = dat.data.sample(frac=0.3, replace=False, random_state=123)\n",
    "data_sample.groupby([\"label\"])[\"label\"].count()"
   ]
  },
  {
   "cell_type": "code",
   "execution_count": null,
   "metadata": {},
   "outputs": [],
   "source": [
    "label_cnn = model.predict_classes(data_sample.drop(columns=\"label\").values.reshape(data_sample.shape[0], 28, 28).reshape(data_sample.shape[0], 28, 28, 1))"
   ]
  },
  {
   "cell_type": "code",
   "execution_count": null,
   "metadata": {},
   "outputs": [],
   "source": [
    "predicted_features = model_.predict(data_sample.drop(columns=\"label\").values.reshape(data_sample.shape[0], 28, 28).reshape(data_sample.shape[0], 28, 28, 1))\n",
    "predicted_features"
   ]
  },
  {
   "cell_type": "code",
   "execution_count": null,
   "metadata": {},
   "outputs": [],
   "source": [
    "label_cnn_lr = lr_model.best_estimator_.predict(X=predicted_features)"
   ]
  },
  {
   "cell_type": "code",
   "execution_count": null,
   "metadata": {},
   "outputs": [],
   "source": [
    "label = data_sample.label.values\n",
    "label"
   ]
  },
  {
   "cell_type": "code",
   "execution_count": null,
   "metadata": {},
   "outputs": [],
   "source": [
    "label_cnn"
   ]
  },
  {
   "cell_type": "code",
   "execution_count": null,
   "metadata": {},
   "outputs": [],
   "source": [
    "label_cnn_lr"
   ]
  },
  {
   "cell_type": "code",
   "execution_count": null,
   "metadata": {},
   "outputs": [],
   "source": [
    "get_confusion_matrix(Y=label, y_pred=label_cnn)\n",
    "metrics.accuracy_score(y_true=label, y_pred=label_cnn)"
   ]
  },
  {
   "cell_type": "code",
   "execution_count": null,
   "metadata": {},
   "outputs": [],
   "source": [
    "get_confusion_matrix(Y=label, y_pred=label_cnn_lr)\n",
    "metrics.accuracy_score(y_true=label, y_pred=label_cnn_lr)"
   ]
  },
  {
   "cell_type": "code",
   "execution_count": null,
   "metadata": {},
   "outputs": [],
   "source": []
  },
  {
   "cell_type": "code",
   "execution_count": null,
   "metadata": {},
   "outputs": [],
   "source": []
  },
  {
   "cell_type": "code",
   "execution_count": null,
   "metadata": {},
   "outputs": [],
   "source": []
  },
  {
   "cell_type": "code",
   "execution_count": null,
   "metadata": {},
   "outputs": [],
   "source": []
  },
  {
   "cell_type": "code",
   "execution_count": 86,
   "metadata": {
    "scrolled": true
   },
   "outputs": [],
   "source": [
    "import tensorflow as tf\n",
    "(x_train, y_train), (x_test, y_test) = tf.keras.datasets.mnist.load_data()"
   ]
  },
  {
   "cell_type": "code",
   "execution_count": 87,
   "metadata": {},
   "outputs": [
    {
     "name": "stdout",
     "output_type": "stream",
     "text": [
      "x_train shape: (60000, 28, 28, 1)\n",
      "Number of images in x_train 60000\n",
      "Number of images in x_test 10000\n"
     ]
    }
   ],
   "source": [
    "# Reshaping the array to 4-dims so that it can work with the Keras API\n",
    "x_train = x_train.reshape(x_train.shape[0], 28, 28, 1)\n",
    "x_test = x_test.reshape(x_test.shape[0], 28, 28, 1)\n",
    "input_shape = (28, 28, 1)\n",
    "# Making sure that the values are float so that we can get decimal points after division\n",
    "x_train = x_train.astype('float32')\n",
    "x_test = x_test.astype('float32')\n",
    "# Normalizing the RGB codes by dividing it to the max RGB value.\n",
    "x_train /= 255\n",
    "x_test /= 255\n",
    "print('x_train shape:', x_train.shape)\n",
    "print('Number of images in x_train', x_train.shape[0])\n",
    "print('Number of images in x_test', x_test.shape[0])"
   ]
  },
  {
   "cell_type": "code",
   "execution_count": 89,
   "metadata": {},
   "outputs": [],
   "source": [
    "# Importing the required Keras modules containing model and layers\n",
    "from keras.models import Sequential\n",
    "from keras.layers import Dense, Conv2D, Dropout, Flatten, MaxPooling2D\n",
    "# Creating a Sequential Model and adding the layers\n",
    "model = Sequential()\n",
    "model.add(Conv2D(28, kernel_size=(3,3), input_shape=input_shape))\n",
    "model.add(MaxPooling2D(pool_size=(2, 2)))\n",
    "model.add(Flatten()) # Flattening the 2D arrays for fully connected layers\n",
    "model.add(Dense(128, activation=tf.nn.relu))\n",
    "model.add(Dropout(0.2))\n",
    "model.add(Dense(10,activation=tf.nn.softmax))"
   ]
  },
  {
   "cell_type": "code",
   "execution_count": 90,
   "metadata": {
    "scrolled": true
   },
   "outputs": [
    {
     "name": "stdout",
     "output_type": "stream",
     "text": [
      "Epoch 1/10\n",
      "60000/60000 [==============================] - 13s 222us/step - loss: 0.2150 - acc: 0.9345\n",
      "Epoch 2/10\n",
      " 7712/60000 [==>...........................] - ETA: 10s - loss: 0.0933 - acc: 0.9721"
     ]
    },
    {
     "ename": "KeyboardInterrupt",
     "evalue": "",
     "output_type": "error",
     "traceback": [
      "\u001b[1;31m---------------------------------------------------------------------------\u001b[0m",
      "\u001b[1;31mKeyboardInterrupt\u001b[0m                         Traceback (most recent call last)",
      "\u001b[1;32m<ipython-input-90-3225cef7aa51>\u001b[0m in \u001b[0;36m<module>\u001b[1;34m()\u001b[0m\n\u001b[0;32m      2\u001b[0m               \u001b[0mloss\u001b[0m\u001b[1;33m=\u001b[0m\u001b[1;34m'sparse_categorical_crossentropy'\u001b[0m\u001b[1;33m,\u001b[0m\u001b[1;33m\u001b[0m\u001b[0m\n\u001b[0;32m      3\u001b[0m               metrics=['accuracy'])\n\u001b[1;32m----> 4\u001b[1;33m \u001b[0mmodel\u001b[0m\u001b[1;33m.\u001b[0m\u001b[0mfit\u001b[0m\u001b[1;33m(\u001b[0m\u001b[0mx\u001b[0m\u001b[1;33m=\u001b[0m\u001b[0mx_train\u001b[0m\u001b[1;33m,\u001b[0m\u001b[0my\u001b[0m\u001b[1;33m=\u001b[0m\u001b[0my_train\u001b[0m\u001b[1;33m,\u001b[0m \u001b[0mepochs\u001b[0m\u001b[1;33m=\u001b[0m\u001b[1;36m10\u001b[0m\u001b[1;33m)\u001b[0m\u001b[1;33m\u001b[0m\u001b[0m\n\u001b[0m",
      "\u001b[1;32mC:\\ProgramData\\Anaconda3\\lib\\site-packages\\keras\\engine\\training.py\u001b[0m in \u001b[0;36mfit\u001b[1;34m(self, x, y, batch_size, epochs, verbose, callbacks, validation_split, validation_data, shuffle, class_weight, sample_weight, initial_epoch, steps_per_epoch, validation_steps, **kwargs)\u001b[0m\n\u001b[0;32m   1037\u001b[0m                                         \u001b[0minitial_epoch\u001b[0m\u001b[1;33m=\u001b[0m\u001b[0minitial_epoch\u001b[0m\u001b[1;33m,\u001b[0m\u001b[1;33m\u001b[0m\u001b[0m\n\u001b[0;32m   1038\u001b[0m                                         \u001b[0msteps_per_epoch\u001b[0m\u001b[1;33m=\u001b[0m\u001b[0msteps_per_epoch\u001b[0m\u001b[1;33m,\u001b[0m\u001b[1;33m\u001b[0m\u001b[0m\n\u001b[1;32m-> 1039\u001b[1;33m                                         validation_steps=validation_steps)\n\u001b[0m\u001b[0;32m   1040\u001b[0m \u001b[1;33m\u001b[0m\u001b[0m\n\u001b[0;32m   1041\u001b[0m     def evaluate(self, x=None, y=None,\n",
      "\u001b[1;32mC:\\ProgramData\\Anaconda3\\lib\\site-packages\\keras\\engine\\training_arrays.py\u001b[0m in \u001b[0;36mfit_loop\u001b[1;34m(model, f, ins, out_labels, batch_size, epochs, verbose, callbacks, val_f, val_ins, shuffle, callback_metrics, initial_epoch, steps_per_epoch, validation_steps)\u001b[0m\n\u001b[0;32m    197\u001b[0m                     \u001b[0mins_batch\u001b[0m\u001b[1;33m[\u001b[0m\u001b[0mi\u001b[0m\u001b[1;33m]\u001b[0m \u001b[1;33m=\u001b[0m \u001b[0mins_batch\u001b[0m\u001b[1;33m[\u001b[0m\u001b[0mi\u001b[0m\u001b[1;33m]\u001b[0m\u001b[1;33m.\u001b[0m\u001b[0mtoarray\u001b[0m\u001b[1;33m(\u001b[0m\u001b[1;33m)\u001b[0m\u001b[1;33m\u001b[0m\u001b[0m\n\u001b[0;32m    198\u001b[0m \u001b[1;33m\u001b[0m\u001b[0m\n\u001b[1;32m--> 199\u001b[1;33m                 \u001b[0mouts\u001b[0m \u001b[1;33m=\u001b[0m \u001b[0mf\u001b[0m\u001b[1;33m(\u001b[0m\u001b[0mins_batch\u001b[0m\u001b[1;33m)\u001b[0m\u001b[1;33m\u001b[0m\u001b[0m\n\u001b[0m\u001b[0;32m    200\u001b[0m                 \u001b[0mouts\u001b[0m \u001b[1;33m=\u001b[0m \u001b[0mto_list\u001b[0m\u001b[1;33m(\u001b[0m\u001b[0mouts\u001b[0m\u001b[1;33m)\u001b[0m\u001b[1;33m\u001b[0m\u001b[0m\n\u001b[0;32m    201\u001b[0m                 \u001b[1;32mfor\u001b[0m \u001b[0ml\u001b[0m\u001b[1;33m,\u001b[0m \u001b[0mo\u001b[0m \u001b[1;32min\u001b[0m \u001b[0mzip\u001b[0m\u001b[1;33m(\u001b[0m\u001b[0mout_labels\u001b[0m\u001b[1;33m,\u001b[0m \u001b[0mouts\u001b[0m\u001b[1;33m)\u001b[0m\u001b[1;33m:\u001b[0m\u001b[1;33m\u001b[0m\u001b[0m\n",
      "\u001b[1;32mC:\\ProgramData\\Anaconda3\\lib\\site-packages\\keras\\backend\\tensorflow_backend.py\u001b[0m in \u001b[0;36m__call__\u001b[1;34m(self, inputs)\u001b[0m\n\u001b[0;32m   2713\u001b[0m                 \u001b[1;32mreturn\u001b[0m \u001b[0mself\u001b[0m\u001b[1;33m.\u001b[0m\u001b[0m_legacy_call\u001b[0m\u001b[1;33m(\u001b[0m\u001b[0minputs\u001b[0m\u001b[1;33m)\u001b[0m\u001b[1;33m\u001b[0m\u001b[0m\n\u001b[0;32m   2714\u001b[0m \u001b[1;33m\u001b[0m\u001b[0m\n\u001b[1;32m-> 2715\u001b[1;33m             \u001b[1;32mreturn\u001b[0m \u001b[0mself\u001b[0m\u001b[1;33m.\u001b[0m\u001b[0m_call\u001b[0m\u001b[1;33m(\u001b[0m\u001b[0minputs\u001b[0m\u001b[1;33m)\u001b[0m\u001b[1;33m\u001b[0m\u001b[0m\n\u001b[0m\u001b[0;32m   2716\u001b[0m         \u001b[1;32melse\u001b[0m\u001b[1;33m:\u001b[0m\u001b[1;33m\u001b[0m\u001b[0m\n\u001b[0;32m   2717\u001b[0m             \u001b[1;32mif\u001b[0m \u001b[0mpy_any\u001b[0m\u001b[1;33m(\u001b[0m\u001b[0mis_tensor\u001b[0m\u001b[1;33m(\u001b[0m\u001b[0mx\u001b[0m\u001b[1;33m)\u001b[0m \u001b[1;32mfor\u001b[0m \u001b[0mx\u001b[0m \u001b[1;32min\u001b[0m \u001b[0minputs\u001b[0m\u001b[1;33m)\u001b[0m\u001b[1;33m:\u001b[0m\u001b[1;33m\u001b[0m\u001b[0m\n",
      "\u001b[1;32mC:\\ProgramData\\Anaconda3\\lib\\site-packages\\keras\\backend\\tensorflow_backend.py\u001b[0m in \u001b[0;36m_call\u001b[1;34m(self, inputs)\u001b[0m\n\u001b[0;32m   2673\u001b[0m             \u001b[0mfetched\u001b[0m \u001b[1;33m=\u001b[0m \u001b[0mself\u001b[0m\u001b[1;33m.\u001b[0m\u001b[0m_callable_fn\u001b[0m\u001b[1;33m(\u001b[0m\u001b[1;33m*\u001b[0m\u001b[0marray_vals\u001b[0m\u001b[1;33m,\u001b[0m \u001b[0mrun_metadata\u001b[0m\u001b[1;33m=\u001b[0m\u001b[0mself\u001b[0m\u001b[1;33m.\u001b[0m\u001b[0mrun_metadata\u001b[0m\u001b[1;33m)\u001b[0m\u001b[1;33m\u001b[0m\u001b[0m\n\u001b[0;32m   2674\u001b[0m         \u001b[1;32melse\u001b[0m\u001b[1;33m:\u001b[0m\u001b[1;33m\u001b[0m\u001b[0m\n\u001b[1;32m-> 2675\u001b[1;33m             \u001b[0mfetched\u001b[0m \u001b[1;33m=\u001b[0m \u001b[0mself\u001b[0m\u001b[1;33m.\u001b[0m\u001b[0m_callable_fn\u001b[0m\u001b[1;33m(\u001b[0m\u001b[1;33m*\u001b[0m\u001b[0marray_vals\u001b[0m\u001b[1;33m)\u001b[0m\u001b[1;33m\u001b[0m\u001b[0m\n\u001b[0m\u001b[0;32m   2676\u001b[0m         \u001b[1;32mreturn\u001b[0m \u001b[0mfetched\u001b[0m\u001b[1;33m[\u001b[0m\u001b[1;33m:\u001b[0m\u001b[0mlen\u001b[0m\u001b[1;33m(\u001b[0m\u001b[0mself\u001b[0m\u001b[1;33m.\u001b[0m\u001b[0moutputs\u001b[0m\u001b[1;33m)\u001b[0m\u001b[1;33m]\u001b[0m\u001b[1;33m\u001b[0m\u001b[0m\n\u001b[0;32m   2677\u001b[0m \u001b[1;33m\u001b[0m\u001b[0m\n",
      "\u001b[1;32m~\\AppData\\Roaming\\Python\\Python36\\site-packages\\tensorflow\\python\\client\\session.py\u001b[0m in \u001b[0;36m__call__\u001b[1;34m(self, *args, **kwargs)\u001b[0m\n\u001b[0;32m   1380\u001b[0m           ret = tf_session.TF_SessionRunCallable(\n\u001b[0;32m   1381\u001b[0m               \u001b[0mself\u001b[0m\u001b[1;33m.\u001b[0m\u001b[0m_session\u001b[0m\u001b[1;33m.\u001b[0m\u001b[0m_session\u001b[0m\u001b[1;33m,\u001b[0m \u001b[0mself\u001b[0m\u001b[1;33m.\u001b[0m\u001b[0m_handle\u001b[0m\u001b[1;33m,\u001b[0m \u001b[0margs\u001b[0m\u001b[1;33m,\u001b[0m \u001b[0mstatus\u001b[0m\u001b[1;33m,\u001b[0m\u001b[1;33m\u001b[0m\u001b[0m\n\u001b[1;32m-> 1382\u001b[1;33m               run_metadata_ptr)\n\u001b[0m\u001b[0;32m   1383\u001b[0m         \u001b[1;32mif\u001b[0m \u001b[0mrun_metadata\u001b[0m\u001b[1;33m:\u001b[0m\u001b[1;33m\u001b[0m\u001b[0m\n\u001b[0;32m   1384\u001b[0m           \u001b[0mproto_data\u001b[0m \u001b[1;33m=\u001b[0m \u001b[0mtf_session\u001b[0m\u001b[1;33m.\u001b[0m\u001b[0mTF_GetBuffer\u001b[0m\u001b[1;33m(\u001b[0m\u001b[0mrun_metadata_ptr\u001b[0m\u001b[1;33m)\u001b[0m\u001b[1;33m\u001b[0m\u001b[0m\n",
      "\u001b[1;31mKeyboardInterrupt\u001b[0m: "
     ]
    }
   ],
   "source": [
    "model.compile(optimizer='adam', \n",
    "              loss='sparse_categorical_crossentropy', \n",
    "              metrics=['accuracy'])\n",
    "model.fit(x=x_train,y=y_train, epochs=10)"
   ]
  },
  {
   "cell_type": "code",
   "execution_count": null,
   "metadata": {},
   "outputs": [],
   "source": []
  }
 ],
 "metadata": {
  "kernelspec": {
   "display_name": "Python 3",
   "language": "python",
   "name": "python3"
  },
  "language_info": {
   "codemirror_mode": {
    "name": "ipython",
    "version": 3
   },
   "file_extension": ".py",
   "mimetype": "text/x-python",
   "name": "python",
   "nbconvert_exporter": "python",
   "pygments_lexer": "ipython3",
   "version": "3.7.0"
  }
 },
 "nbformat": 4,
 "nbformat_minor": 1
}

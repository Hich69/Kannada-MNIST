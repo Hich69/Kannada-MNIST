{
 "cells": [
  {
   "cell_type": "code",
   "execution_count": 1,
   "metadata": {
    "_cell_guid": "b1076dfc-b9ad-4769-8c92-a6c4dae69d19",
    "_uuid": "8f2839f25d086af736a60e9eeb907d3b93b6e0e5"
   },
   "outputs": [],
   "source": [
    "# This Python 3 environment comes with many helpful analytics libraries installed\n",
    "# It is defined by the kaggle/python docker image: https://github.com/kaggle/docker-python\n",
    "# For example, here's several helpful packages to load in \n",
    "\n",
    "import numpy as np # linear algebra\n",
    "import pandas as pd # data processing, CSV file I/O (e.g. pd.read_csv)\n",
    "\n",
    "# Input data files are available in the \"../input/\" directory.\n",
    "# For example, running this (by clicking run or pressing Shift+Enter) will list all files under the input directory\n",
    "\n",
    "import os\n",
    "#for dirname, _, filenames in os.walk('/kaggle/input'):\n",
    "#    for filename in filenames:\n",
    "#        print(os.path.join(dirname, filename))\n",
    "\n",
    "# Any results you write to the current directory are saved as output."
   ]
  },
  {
   "cell_type": "code",
   "execution_count": 2,
   "metadata": {
    "_cell_guid": "79c7e3d0-c299-4dcb-8224-4455121ee9b0",
    "_uuid": "d629ff2d2480ee46fbb7e2d37f6b5fab8052498a"
   },
   "outputs": [
    {
     "name": "stderr",
     "output_type": "stream",
     "text": [
      "C:\\ProgramData\\Anaconda3\\lib\\site-packages\\h5py\\__init__.py:36: FutureWarning: Conversion of the second argument of issubdtype from `float` to `np.floating` is deprecated. In future, it will be treated as `np.float64 == np.dtype(float).type`.\n",
      "  from ._conv import register_converters as _register_converters\n",
      "Using TensorFlow backend.\n"
     ]
    }
   ],
   "source": [
    "import os, sys, cv2, pickle\n",
    "from PIL import Image,ImageOps\n",
    "import matplotlib.pyplot as plt\n",
    "from progressbar import ProgressBar\n",
    "import random, itertools\n",
    "import seaborn as sns\n",
    "from sklearn.preprocessing import StandardScaler\n",
    "from sklearn import preprocessing, model_selection, metrics, feature_selection\n",
    "from sklearn import neighbors, linear_model, svm, tree, ensemble\n",
    "from sklearn.model_selection import GridSearchCV, learning_curve, train_test_split\n",
    "from sklearn.metrics import confusion_matrix\n",
    "from sklearn.metrics import accuracy_score, make_scorer, hamming_loss\n",
    "\n",
    "from keras.utils import to_categorical\n",
    "from keras.models import Model\n",
    "\n",
    "import tensorflow as tf\n",
    "config = tf.ConfigProto()\n",
    "config.gpu_options.allow_growth = True\n",
    "sess = tf.Session(config=config)\n",
    "\n",
    "#sess = tf.Session(config=tf.ConfigProto(log_device_placement=True))"
   ]
  },
  {
   "cell_type": "markdown",
   "metadata": {},
   "source": [
    "# Load dataset train"
   ]
  },
  {
   "cell_type": "code",
   "execution_count": 3,
   "metadata": {},
   "outputs": [],
   "source": [
    "train = pd.read_csv(\"../data/train.csv\", sep=\",\")\n",
    "test = pd.read_csv(\"../data/test.csv\", sep=\",\")\n",
    "dig_mnist = pd.read_csv(\"../data/Dig-MNIST.csv\", sep=\",\")\n",
    "sample_submission = pd.read_csv(\"../data/sample_submission.csv\", sep=\",\")"
   ]
  },
  {
   "cell_type": "markdown",
   "metadata": {},
   "source": [
    "# Get Class to create array for model"
   ]
  },
  {
   "cell_type": "code",
   "execution_count": 24,
   "metadata": {},
   "outputs": [],
   "source": [
    "class Create_Array:\n",
    "    def __init__(self, data, random_sample, random_state):\n",
    "        self.random_sample = random_sample\n",
    "        self.random_state = random_state\n",
    "        if random_sample == 1: self.data = data\n",
    "        else:\n",
    "            train_X, test_X, train_y, test_y = \\\n",
    "            train_test_split(data, data.label, test_size=random_sample, random_state=random_state, stratify=data.label)\n",
    "            test_X['label'] = test_y\n",
    "            self.data = test_X.reset_index(drop=\"index\")\n",
    "    def split_data(self, test_size, to_category):\n",
    "        self.test_size = test_size\n",
    "        train_X, test_X, train_y, test_y = \\\n",
    "        train_test_split(self.data.drop(columns=\"label\"), self.data.label, test_size=test_size, random_state=self.random_state, stratify=self.data.label)\n",
    "        train_X = train_X.reset_index(drop='index')\n",
    "        self.train_X = self.change_format_X(train_X)\n",
    "        test_X = test_X.reset_index(drop='index')\n",
    "        self.test_X = self.change_format_X(test_X)\n",
    "        train_y = train_y.reset_index(drop='index')\n",
    "        self.train_y = self.change_format_y(train_y, to_category)\n",
    "        test_y = test_y.reset_index(drop='index')\n",
    "        self.test_y = self.change_format_y(test_y, to_category)\n",
    "    def get_pie_chart(self, figsize):\n",
    "        label_dict = dict()\n",
    "        label_count = self.data.label.value_counts()\n",
    "        for k in label_count.index:\n",
    "            label_dict[label_count.index[k]] = label_count[k]\n",
    "        \n",
    "        def func(pct, allvals):\n",
    "            absolute = int(pct/100.*np.sum(allvals))\n",
    "            return \"{:0.0f}\\n{:0.2f} %\".format(absolute, pct)\n",
    "        \n",
    "        data = list(label_dict.values())\n",
    "        \n",
    "        fig, ax = plt.subplots(figsize=figsize, subplot_kw=dict(aspect=\"equal\"))\n",
    "        wedges, texts, autotexts = ax.pie(data, autopct=lambda pct: func(pct, data),\n",
    "                                          textprops=dict(color=\"w\"))\n",
    "        ax.legend(wedges, label_dict.keys(),\n",
    "                  title=\"Labels\",\n",
    "                  loc=\"center left\",\n",
    "                  bbox_to_anchor=(1, 0, 0.5, 1))\n",
    "        return fig\n",
    "    def show_one_image(self, figsize):\n",
    "        plt.figure(figsize=figsize)\n",
    "        ind = random.sample(k=1, population=set(self.data.index))\n",
    "        img = self.data.loc[ind[0]][\"pixel0\":].values.reshape(28,28)\n",
    "        plt.imshow(img)\n",
    "        plt.title(\"label : {}\".format(self.data.loc[ind[0]][\"label\"]))\n",
    "        return plt\n",
    "    def show_multiple_images(self, seed, figsize):\n",
    "        random.seed(seed)\n",
    "        num_dict = dict()\n",
    "        for num in range(10):\n",
    "            ind = random.sample(k=1, population=set(self.data.loc[self.data.label==num].index))\n",
    "            num_dict[self.data.label[ind[0]]] = self.data.loc[ind[0]][\"pixel0\":].values.reshape(28,28)\n",
    "        plt.figure(figsize=figsize)\n",
    "        for k,v in num_dict.items():\n",
    "            plt.subplot(251+k)\n",
    "            plt.imshow(num_dict[k])\n",
    "            plt.title(\"label : {}\".format(k))\n",
    "    def change_format_X(self, data):\n",
    "        #return data.values.reshape(data.shape[0], 28, 28, 1)\n",
    "        return data.values.reshape(data.shape[0], 28, 28).reshape(data.shape[0], 28, 28, 1)\n",
    "    #def change_format_X(self, data):\n",
    "    #    pbar = ProgressBar()\n",
    "    #    data_copy = data.copy()\n",
    "    #    for k in pbar(data_copy.index):\n",
    "    #        if k == 0:\n",
    "    #            dat_c = data_copy.loc[0][\"pixel0\":].values.reshape(28,28)\n",
    "    #            dat_c = np.expand_dims(dat_c, axis=2)\n",
    "    #            dat_c = np.expand_dims(dat_c, axis=0)\n",
    "    #        else:\n",
    "    #            k_ = data_copy.loc[k][\"pixel0\":].values.reshape(28,28)\n",
    "    #            k_ = np.expand_dims(k_, axis=2)\n",
    "    #            k_ = np.expand_dims(k_, axis=0)\n",
    "    #            dat_c = np.concatenate((dat_c, k_), axis=0)\n",
    "    #    return dat_c\n",
    "    def change_format_y(self, data, to_category):\n",
    "        self.to_category = to_category\n",
    "        pbar = ProgressBar()\n",
    "        #data_copy = data.copy()\n",
    "        y = []\n",
    "        if to_category:\n",
    "            for k in pbar(data.index):\n",
    "                y.append([data.loc[k]])\n",
    "            y = to_categorical(y)\n",
    "        else:\n",
    "            for k in pbar(data.index):\n",
    "                y.append(data.loc[k])\n",
    "            y = np.array(y)\n",
    "        return y"
   ]
  },
  {
   "cell_type": "code",
   "execution_count": 28,
   "metadata": {},
   "outputs": [
    {
     "name": "stderr",
     "output_type": "stream",
     "text": [
      "C:\\ProgramData\\Anaconda3\\lib\\site-packages\\ipykernel_launcher.py:8: SettingWithCopyWarning: \n",
      "A value is trying to be set on a copy of a slice from a DataFrame.\n",
      "Try using .loc[row_indexer,col_indexer] = value instead\n",
      "\n",
      "See the caveats in the documentation: http://pandas.pydata.org/pandas-docs/stable/user_guide/indexing.html#returning-a-view-versus-a-copy\n",
      "  \n"
     ]
    },
    {
     "data": {
      "image/png": "[encoded data removed]",
      "text/plain": [
       "<Figure size 720x504 with 1 Axes>"
      ]
     },
     "metadata": {},
     "output_type": "display_data"
    }
   ],
   "source": [
    "dat = Create_Array(train, 0.5, 123)\n",
    "_ = dat.get_pie_chart(figsize=(10,7))"
   ]
  },
  {
   "cell_type": "code",
   "execution_count": 39,
   "metadata": {},
   "outputs": [
    {
     "data": {
      "image/png": "[encoded data removed]",
      "text/plain": [
       "<Figure size 216x216 with 1 Axes>"
      ]
     },
     "metadata": {},
     "output_type": "display_data"
    }
   ],
   "source": [
    "_ = dat.show_one_image(figsize=(3,3))"
   ]
  },
  {
   "cell_type": "code",
   "execution_count": 40,
   "metadata": {},
   "outputs": [
    {
     "data": {
      "image/png": "[encoded data removed]",
      "text/plain": [
       "<Figure size 864x504 with 10 Axes>"
      ]
     },
     "metadata": {},
     "output_type": "display_data"
    }
   ],
   "source": [
    "dat.show_multiple_images(figsize=(12,7), seed=933)"
   ]
  },
  {
   "cell_type": "code",
   "execution_count": 41,
   "metadata": {},
   "outputs": [
    {
     "name": "stderr",
     "output_type": "stream",
     "text": [
      "100% |########################################################################|\n",
      "100% |########################################################################|\n"
     ]
    }
   ],
   "source": [
    "dat.split_data(test_size=0.2, to_category=False)"
   ]
  },
  {
   "cell_type": "code",
   "execution_count": 43,
   "metadata": {},
   "outputs": [
    {
     "name": "stdout",
     "output_type": "stream",
     "text": [
      "(24000, 28, 28, 1)\n",
      "(6000, 28, 28, 1)\n"
     ]
    }
   ],
   "source": [
    "print(dat.train_X.shape)\n",
    "print(dat.test_X.shape)"
   ]
  },
  {
   "cell_type": "code",
   "execution_count": null,
   "metadata": {},
   "outputs": [],
   "source": []
  },
  {
   "cell_type": "markdown",
   "metadata": {},
   "source": [
    "# Create model of cnn"
   ]
  },
  {
   "cell_type": "code",
   "execution_count": 20,
   "metadata": {},
   "outputs": [],
   "source": [
    "def history_plot(history):\n",
    "    acc = history.history['acc']\n",
    "    val_acc = history.history['val_acc']\n",
    "    loss = history.history['loss']\n",
    "    val_loss = history.history['val_loss']\n",
    "    \n",
    "    epochs = range(len(acc))\n",
    "    \n",
    "    plt.figure(figsize=(10,5))\n",
    "    plt.subplot(1, 2, 1)\n",
    "    plt.plot(epochs, acc, 'b', label='Training acc')\n",
    "    plt.plot(epochs, val_acc, 'r', label='Validation acc')\n",
    "    plt.title('Training and validation accuracy')\n",
    "    plt.xlabel(\"epochs\")\n",
    "    plt.ylabel(\"accuracy\")\n",
    "    plt.legend()\n",
    "    plt.grid(True)\n",
    "    \n",
    "    #plt.figure()\n",
    "    \n",
    "    plt.subplot(1, 2, 2)\n",
    "    plt.plot(epochs, loss, 'b', label='Training loss')\n",
    "    plt.plot(epochs, val_loss, 'r', label='Validation loss')\n",
    "    plt.title('Training and validation loss')\n",
    "    plt.xlabel(\"epochs\")\n",
    "    plt.ylabel(\"loss\")\n",
    "    plt.legend()\n",
    "    plt.grid(True)\n",
    "    \n",
    "    #plt.show()\n",
    "    return plt"
   ]
  },
  {
   "cell_type": "code",
   "execution_count": 21,
   "metadata": {},
   "outputs": [],
   "source": [
    "# Confusion matrix\n",
    "def get_confusion_matrix(Y, y_pred, figsize=(7,7), dpi=90, normalize=False, title='Confusion matrix', cmap=plt.cm.Blues):\n",
    "        cnf_matrix = confusion_matrix(Y, y_pred)\n",
    "        \n",
    "        if normalize:\n",
    "            cnf_matrix = cnf_matrix.astype('float') / cnf_matrix.sum(axis=1)[:, np.newaxis]\n",
    "            print(\"Normalized confusion matrix\")\n",
    "        else:\n",
    "            print('Confusion matrix, without normalization')\n",
    "        \n",
    "        plt.figure(figsize=figsize, dpi=dpi)\n",
    "        plt.imshow(cnf_matrix, interpolation='nearest', cmap=cmap)\n",
    "        plt.title(title)\n",
    "        plt.colorbar()\n",
    "        tick_marks = np.arange(5)\n",
    "        plt.xticks(tick_marks, [0,1,2,3,4], rotation=0)\n",
    "        plt.yticks(tick_marks, [0,1,2,3,4])\n",
    "        \n",
    "        fmt = '.2f' if normalize else 'd'\n",
    "        thresh = cnf_matrix.max() / 2.\n",
    "        for i, j in itertools.product(range(cnf_matrix.shape[0]), range(cnf_matrix.shape[1])):\n",
    "            plt.text(j, i, format(cnf_matrix[i, j], fmt),\n",
    "                     horizontalalignment=\"center\",\n",
    "                     color=\"white\" if cnf_matrix[i, j] > thresh else \"black\")\n",
    "        \n",
    "        plt.tight_layout()\n",
    "        plt.ylabel('True label')\n",
    "        plt.xlabel('Predicted label')\n",
    "        return plt"
   ]
  },
  {
   "cell_type": "code",
   "execution_count": null,
   "metadata": {},
   "outputs": [],
   "source": []
  },
  {
   "cell_type": "code",
   "execution_count": 22,
   "metadata": {},
   "outputs": [],
   "source": [
    "# Importing the required Keras modules containing model and layers\n",
    "from keras.models import Sequential\n",
    "from keras.layers import Dense, Conv2D, Dropout, Flatten, MaxPooling2D\n",
    "# Creating a Sequential Model and adding the layers\n",
    "model = Sequential()\n",
    "model.add(Conv2D(28, kernel_size=(3,3), input_shape=(28,28,1)))\n",
    "model.add(MaxPooling2D(pool_size=(2, 2)))\n",
    "model.add(Flatten()) # Flattening the 2D arrays for fully connected layers\n",
    "model.add(Dense(128, activation=tf.nn.relu))\n",
    "model.add(Dense(256, activation=tf.nn.relu))\n",
    "model.add(Dense(512, activation=tf.nn.relu))\n",
    "model.add(Dropout(0.2))\n",
    "model.add(Dense(10,activation=tf.nn.softmax))"
   ]
  },
  {
   "cell_type": "code",
   "execution_count": 23,
   "metadata": {},
   "outputs": [
    {
     "name": "stdout",
     "output_type": "stream",
     "text": [
      "x_train shape: (48000, 28, 28, 1)\n",
      "Number of images in x_train 48000\n",
      "Number of images in x_test 12000\n"
     ]
    }
   ],
   "source": [
    "# Reshaping the array to 4-dims so that it can work with the Keras API\n",
    "#x_train = x_train.reshape(x_train.shape[0], 28, 28, 1)\n",
    "#x_test = x_test.reshape(x_test.shape[0], 28, 28, 1)\n",
    "x_train = dat.train_X\n",
    "x_test = dat.test_X\n",
    "y_train = dat.train_y\n",
    "y_test = dat.test_y\n",
    "input_shape = (1, 28, 28)\n",
    "# Making sure that the values are float so that we can get decimal points after division\n",
    "x_train = x_train.astype('float32')\n",
    "x_test = x_test.astype('float32')\n",
    "# Normalizing the RGB codes by dividing it to the max RGB value.\n",
    "x_train /= 255\n",
    "x_test /= 255\n",
    "print('x_train shape:', x_train.shape)\n",
    "print('Number of images in x_train', x_train.shape[0])\n",
    "print('Number of images in x_test', x_test.shape[0])"
   ]
  },
  {
   "cell_type": "code",
   "execution_count": null,
   "metadata": {},
   "outputs": [],
   "source": []
  },
  {
   "cell_type": "code",
   "execution_count": 24,
   "metadata": {
    "scrolled": true
   },
   "outputs": [],
   "source": [
    "#model.compile(optimizer='adam', \n",
    "#              loss='sparse_categorical_crossentropy', \n",
    "#              metrics=['accuracy'])\n",
    "#model.fit(x=x_train,y=y_train, epochs=10)\n",
    "\n",
    "def fit_model(model, epoch):\n",
    "    model.compile(optimizer=\"adam\",\n",
    "                  loss='sparse_categorical_crossentropy',\n",
    "                  metrics=['accuracy'])\n",
    "    \n",
    "    history = model.fit(x_train, y_train,\n",
    "                        nb_epoch=epoch,\n",
    "                        validation_data=(x_test, y_test),\n",
    "                        verbose=1)\n",
    "    return model, history"
   ]
  },
  {
   "cell_type": "code",
   "execution_count": 25,
   "metadata": {
    "scrolled": true
   },
   "outputs": [
    {
     "name": "stderr",
     "output_type": "stream",
     "text": [
      "C:\\ProgramData\\Anaconda3\\lib\\site-packages\\ipykernel_launcher.py:14: UserWarning: The `nb_epoch` argument in `fit` has been renamed `epochs`.\n",
      "  \n"
     ]
    },
    {
     "name": "stdout",
     "output_type": "stream",
     "text": [
      "Train on 48000 samples, validate on 12000 samples\n",
      "Epoch 1/50\n",
      "48000/48000 [==============================] - 15s 305us/step - loss: 0.1178 - acc: 0.9641 - val_loss: 0.0527 - val_acc: 0.9845\n",
      "Epoch 2/50\n",
      "48000/48000 [==============================] - 12s 258us/step - loss: 0.0431 - acc: 0.9874 - val_loss: 0.0514 - val_acc: 0.9836\n",
      "Epoch 3/50\n",
      "48000/48000 [==============================] - 12s 255us/step - loss: 0.0266 - acc: 0.9917 - val_loss: 0.0442 - val_acc: 0.9895\n",
      "Epoch 4/50\n",
      "48000/48000 [==============================] - 12s 256us/step - loss: 0.0203 - acc: 0.9935 - val_loss: 0.0420 - val_acc: 0.9902\n",
      "Epoch 5/50\n",
      "48000/48000 [==============================] - 12s 257us/step - loss: 0.0176 - acc: 0.9950 - val_loss: 0.0581 - val_acc: 0.9865\n",
      "Epoch 6/50\n",
      "48000/48000 [==============================] - 12s 257us/step - loss: 0.0142 - acc: 0.9955 - val_loss: 0.0631 - val_acc: 0.9870\n",
      "Epoch 7/50\n",
      "48000/48000 [==============================] - 12s 256us/step - loss: 0.0116 - acc: 0.9965 - val_loss: 0.0597 - val_acc: 0.9884\n",
      "Epoch 8/50\n",
      "48000/48000 [==============================] - 12s 257us/step - loss: 0.0164 - acc: 0.9960 - val_loss: 0.0518 - val_acc: 0.9902\n",
      "Epoch 9/50\n",
      "48000/48000 [==============================] - 12s 257us/step - loss: 0.0098 - acc: 0.9976 - val_loss: 0.0461 - val_acc: 0.9909\n",
      "Epoch 10/50\n",
      "48000/48000 [==============================] - 12s 258us/step - loss: 0.0108 - acc: 0.9970 - val_loss: 0.0517 - val_acc: 0.9905\n",
      "Epoch 11/50\n",
      "48000/48000 [==============================] - 13s 263us/step - loss: 0.0090 - acc: 0.9975 - val_loss: 0.0530 - val_acc: 0.9908\n",
      "Epoch 12/50\n",
      "48000/48000 [==============================] - 13s 262us/step - loss: 0.0103 - acc: 0.9973 - val_loss: 0.1470 - val_acc: 0.9798\n",
      "Epoch 13/50\n",
      "48000/48000 [==============================] - 13s 267us/step - loss: 0.0138 - acc: 0.9968 - val_loss: 0.0544 - val_acc: 0.9919\n",
      "Epoch 14/50\n",
      "48000/48000 [==============================] - 12s 258us/step - loss: 0.0085 - acc: 0.9981 - val_loss: 0.0658 - val_acc: 0.9893\n",
      "Epoch 15/50\n",
      "48000/48000 [==============================] - 12s 258us/step - loss: 0.0081 - acc: 0.9980 - val_loss: 0.0668 - val_acc: 0.9900\n",
      "Epoch 16/50\n",
      "48000/48000 [==============================] - 12s 258us/step - loss: 0.0065 - acc: 0.9984 - val_loss: 0.0605 - val_acc: 0.9919\n",
      "Epoch 17/50\n",
      "48000/48000 [==============================] - 13s 267us/step - loss: 0.0081 - acc: 0.9981 - val_loss: 0.0568 - val_acc: 0.9926\n",
      "Epoch 18/50\n",
      "48000/48000 [==============================] - 13s 271us/step - loss: 0.0093 - acc: 0.9982 - val_loss: 0.0663 - val_acc: 0.9920\n",
      "Epoch 19/50\n",
      "48000/48000 [==============================] - 13s 264us/step - loss: 0.0091 - acc: 0.9980 - val_loss: 0.0593 - val_acc: 0.9920\n",
      "Epoch 20/50\n",
      "48000/48000 [==============================] - 13s 270us/step - loss: 0.0075 - acc: 0.9984 - val_loss: 0.0553 - val_acc: 0.9924\n",
      "Epoch 21/50\n",
      "48000/48000 [==============================] - 13s 263us/step - loss: 0.0095 - acc: 0.9984 - val_loss: 0.0707 - val_acc: 0.9919\n",
      "Epoch 22/50\n",
      "48000/48000 [==============================] - 13s 261us/step - loss: 0.0095 - acc: 0.9985 - val_loss: 0.0759 - val_acc: 0.9916\n",
      "Epoch 23/50\n",
      "48000/48000 [==============================] - 13s 268us/step - loss: 0.0094 - acc: 0.9984 - val_loss: 0.0633 - val_acc: 0.9920\n",
      "Epoch 24/50\n",
      "48000/48000 [==============================] - 13s 265us/step - loss: 0.0060 - acc: 0.9989 - val_loss: 0.0692 - val_acc: 0.9919\n",
      "Epoch 25/50\n",
      "48000/48000 [==============================] - 12s 258us/step - loss: 0.0062 - acc: 0.9988 - val_loss: 0.0757 - val_acc: 0.9908\n",
      "Epoch 26/50\n",
      "48000/48000 [==============================] - 12s 260us/step - loss: 0.0110 - acc: 0.9981 - val_loss: 0.0726 - val_acc: 0.9908\n",
      "Epoch 27/50\n",
      "48000/48000 [==============================] - 12s 259us/step - loss: 0.0043 - acc: 0.9993 - val_loss: 0.0858 - val_acc: 0.9900\n",
      "Epoch 28/50\n",
      "48000/48000 [==============================] - 13s 262us/step - loss: 0.0068 - acc: 0.9986 - val_loss: 0.0625 - val_acc: 0.9922\n",
      "Epoch 29/50\n",
      "48000/48000 [==============================] - 13s 268us/step - loss: 0.0079 - acc: 0.9984 - val_loss: 0.0607 - val_acc: 0.9924\n",
      "Epoch 30/50\n",
      "48000/48000 [==============================] - 12s 259us/step - loss: 0.0109 - acc: 0.9983 - val_loss: 0.0792 - val_acc: 0.9898\n",
      "Epoch 31/50\n",
      "48000/48000 [==============================] - 13s 269us/step - loss: 0.0058 - acc: 0.9989 - val_loss: 0.0802 - val_acc: 0.9904\n",
      "Epoch 32/50\n",
      "48000/48000 [==============================] - 13s 261us/step - loss: 0.0123 - acc: 0.9983 - val_loss: 0.0823 - val_acc: 0.9904\n",
      "Epoch 33/50\n",
      "48000/48000 [==============================] - 12s 259us/step - loss: 0.0088 - acc: 0.9988 - val_loss: 0.0778 - val_acc: 0.9911\n",
      "Epoch 34/50\n",
      "48000/48000 [==============================] - 12s 258us/step - loss: 0.0043 - acc: 0.9995 - val_loss: 0.0787 - val_acc: 0.9902\n",
      "Epoch 35/50\n",
      "48000/48000 [==============================] - 12s 259us/step - loss: 0.0059 - acc: 0.9990 - val_loss: 0.0701 - val_acc: 0.9919\n",
      "Epoch 36/50\n",
      "48000/48000 [==============================] - 13s 267us/step - loss: 0.0116 - acc: 0.9985 - val_loss: 0.1108 - val_acc: 0.9891\n",
      "Epoch 37/50\n",
      "48000/48000 [==============================] - 12s 259us/step - loss: 0.0109 - acc: 0.9985 - val_loss: 0.0949 - val_acc: 0.9895\n",
      "Epoch 38/50\n",
      "48000/48000 [==============================] - 12s 258us/step - loss: 0.0105 - acc: 0.9987 - val_loss: 0.0856 - val_acc: 0.9922\n",
      "Epoch 39/50\n",
      "48000/48000 [==============================] - 13s 261us/step - loss: 0.0138 - acc: 0.9984 - val_loss: 0.0971 - val_acc: 0.9887\n",
      "Epoch 40/50\n",
      "48000/48000 [==============================] - 12s 260us/step - loss: 0.0058 - acc: 0.9991 - val_loss: 0.1096 - val_acc: 0.9904\n",
      "Epoch 41/50\n",
      "48000/48000 [==============================] - 13s 265us/step - loss: 0.0033 - acc: 0.9994 - val_loss: 0.1262 - val_acc: 0.9883\n",
      "Epoch 42/50\n",
      "48000/48000 [==============================] - 13s 279us/step - loss: 0.0112 - acc: 0.9984 - val_loss: 0.0875 - val_acc: 0.9905\n",
      "Epoch 43/50\n",
      "48000/48000 [==============================] - 13s 262us/step - loss: 0.0070 - acc: 0.9990 - val_loss: 0.1046 - val_acc: 0.9898\n",
      "Epoch 44/50\n",
      "48000/48000 [==============================] - 12s 259us/step - loss: 0.0077 - acc: 0.9991 - val_loss: 0.0877 - val_acc: 0.9922\n",
      "Epoch 45/50\n",
      "48000/48000 [==============================] - 13s 268us/step - loss: 0.0110 - acc: 0.9988 - val_loss: 0.1037 - val_acc: 0.9905\n",
      "Epoch 46/50\n",
      "48000/48000 [==============================] - 13s 270us/step - loss: 0.0126 - acc: 0.9985 - val_loss: 0.0890 - val_acc: 0.9920\n",
      "Epoch 47/50\n",
      "48000/48000 [==============================] - 13s 264us/step - loss: 0.0079 - acc: 0.9992 - val_loss: 0.0809 - val_acc: 0.9921\n",
      "Epoch 48/50\n",
      "48000/48000 [==============================] - 13s 269us/step - loss: 0.0095 - acc: 0.9990 - val_loss: 0.1037 - val_acc: 0.9898\n",
      "Epoch 49/50\n",
      "48000/48000 [==============================] - 13s 273us/step - loss: 0.0148 - acc: 0.9984 - val_loss: 0.0979 - val_acc: 0.9917\n",
      "Epoch 50/50\n",
      "48000/48000 [==============================] - 13s 277us/step - loss: 0.0110 - acc: 0.9989 - val_loss: 0.1250 - val_acc: 0.9893\n"
     ]
    }
   ],
   "source": [
    "model, history = fit_model(model=model, epoch=50)"
   ]
  },
  {
   "cell_type": "code",
   "execution_count": 26,
   "metadata": {},
   "outputs": [
    {
     "data": {
      "text/plain": [
       "<module 'matplotlib.pyplot' from 'C:\\\\ProgramData\\\\Anaconda3\\\\lib\\\\site-packages\\\\matplotlib\\\\pyplot.py'>"
      ]
     },
     "execution_count": 26,
     "metadata": {},
     "output_type": "execute_result"
    },
    {
     "data": {
      "image/png": "[encoded data removed]",
      "text/plain": [
       "<Figure size 720x360 with 2 Axes>"
      ]
     },
     "metadata": {},
     "output_type": "display_data"
    }
   ],
   "source": [
    "history_plot(history)"
   ]
  },
  {
   "cell_type": "code",
   "execution_count": 27,
   "metadata": {},
   "outputs": [
    {
     "name": "stdout",
     "output_type": "stream",
     "text": [
      "12000/12000 [==============================] - 1s 83us/step\n"
     ]
    },
    {
     "data": {
      "text/plain": [
       "[0.12502456157280842, 0.9893333333333333]"
      ]
     },
     "execution_count": 27,
     "metadata": {},
     "output_type": "execute_result"
    }
   ],
   "source": [
    "model.evaluate(x_test, y_test)"
   ]
  },
  {
   "cell_type": "code",
   "execution_count": 30,
   "metadata": {},
   "outputs": [
    {
     "name": "stdout",
     "output_type": "stream",
     "text": [
      "_________________________________________________________________\n",
      "Layer (type)                 Output Shape              Param #   \n",
      "=================================================================\n",
      "conv2d_1 (Conv2D)            (None, 26, 26, 28)        280       \n",
      "_________________________________________________________________\n",
      "max_pooling2d_1 (MaxPooling2 (None, 13, 13, 28)        0         \n",
      "_________________________________________________________________\n",
      "flatten_1 (Flatten)          (None, 4732)              0         \n",
      "_________________________________________________________________\n",
      "dense_1 (Dense)              (None, 128)               605824    \n",
      "_________________________________________________________________\n",
      "dense_2 (Dense)              (None, 256)               33024     \n",
      "_________________________________________________________________\n",
      "dense_3 (Dense)              (None, 512)               131584    \n",
      "_________________________________________________________________\n",
      "dropout_1 (Dropout)          (None, 512)               0         \n",
      "_________________________________________________________________\n",
      "dense_4 (Dense)              (None, 10)                5130      \n",
      "=================================================================\n",
      "Total params: 775,842\n",
      "Trainable params: 775,842\n",
      "Non-trainable params: 0\n",
      "_________________________________________________________________\n"
     ]
    }
   ],
   "source": [
    "model.summary()"
   ]
  },
  {
   "cell_type": "code",
   "execution_count": 33,
   "metadata": {},
   "outputs": [
    {
     "data": {
      "text/plain": [
       "<tf.Tensor 'conv2d_1_input:0' shape=(?, 28, 28, 1) dtype=float32>"
      ]
     },
     "execution_count": 33,
     "metadata": {},
     "output_type": "execute_result"
    }
   ],
   "source": [
    "model.get_layer('flatten_1').output\n",
    "model.input"
   ]
  },
  {
   "cell_type": "code",
   "execution_count": 34,
   "metadata": {},
   "outputs": [],
   "source": [
    "from keras import models\n",
    "from keras.models import Model\n",
    "from keras.models import load_model\n",
    "\n",
    "model_ = models.Sequential()\n",
    "model_.add(Model(inputs=model.input, outputs=model.get_layer('flatten_1').output))"
   ]
  },
  {
   "cell_type": "code",
   "execution_count": 41,
   "metadata": {},
   "outputs": [
    {
     "name": "stderr",
     "output_type": "stream",
     "text": [
      "C:\\ProgramData\\Anaconda3\\lib\\site-packages\\keras\\engine\\sequential.py:247: UserWarning: Network returning invalid probability values. The last layer might not normalize predictions into probabilities (like softmax or sigmoid would).\n",
      "  warnings.warn('Network returning invalid probability values. '\n"
     ]
    }
   ],
   "source": [
    "predicted_features = model_.predict_proba(dat.data.drop(columns=\"label\").values.reshape(60000, 28, 28).reshape(60000, 28, 28, 1))\n",
    "predicted_label = model.predict_classes(dat.data.drop(columns=\"label\").values.reshape(60000, 28, 28).reshape(60000, 28, 28, 1))"
   ]
  },
  {
   "cell_type": "code",
   "execution_count": 54,
   "metadata": {},
   "outputs": [
    {
     "name": "stdout",
     "output_type": "stream",
     "text": [
      "Confusion matrix, without normalization\n"
     ]
    },
    {
     "data": {
      "text/plain": [
       "<module 'matplotlib.pyplot' from 'C:\\\\ProgramData\\\\Anaconda3\\\\lib\\\\site-packages\\\\matplotlib\\\\pyplot.py'>"
      ]
     },
     "execution_count": 54,
     "metadata": {},
     "output_type": "execute_result"
    },
    {
     "data": {
      "image/png": "[encoded data removed]",
      "text/plain": [
       "<Figure size 525x525 with 2 Axes>"
      ]
     },
     "metadata": {},
     "output_type": "display_data"
    }
   ],
   "source": [
    "get_confusion_matrix(Y=dat.data.label.values, y_pred=predicted_label, normalize=False, dpi=75)"
   ]
  },
  {
   "cell_type": "code",
   "execution_count": null,
   "metadata": {},
   "outputs": [],
   "source": []
  },
  {
   "cell_type": "code",
   "execution_count": 71,
   "metadata": {},
   "outputs": [
    {
     "data": {
      "text/plain": [
       "array([0, 1, 2, 3, 4, 5, 6, 7, 8, 9], dtype=int64)"
      ]
     },
     "execution_count": 71,
     "metadata": {},
     "output_type": "execute_result"
    }
   ],
   "source": [
    "model.predict_classes(x=dat.data.drop(columns=\"label\").iloc[:10].values.reshape(10, 28, 28).reshape(10, 28, 28, 1))"
   ]
  },
  {
   "cell_type": "code",
   "execution_count": 65,
   "metadata": {},
   "outputs": [
    {
     "data": {
      "text/plain": [
       "0    0\n",
       "1    1\n",
       "2    2\n",
       "3    3\n",
       "4    4\n",
       "5    5\n",
       "6    6\n",
       "7    7\n",
       "8    8\n",
       "9    9\n",
       "Name: label, dtype: int64"
      ]
     },
     "execution_count": 65,
     "metadata": {},
     "output_type": "execute_result"
    }
   ],
   "source": [
    "dat.data[\"label\"].iloc[:10]"
   ]
  },
  {
   "cell_type": "code",
   "execution_count": null,
   "metadata": {},
   "outputs": [],
   "source": []
  },
  {
   "cell_type": "code",
   "execution_count": null,
   "metadata": {},
   "outputs": [],
   "source": []
  },
  {
   "cell_type": "code",
   "execution_count": null,
   "metadata": {},
   "outputs": [],
   "source": []
  },
  {
   "cell_type": "code",
   "execution_count": null,
   "metadata": {},
   "outputs": [],
   "source": []
  },
  {
   "cell_type": "code",
   "execution_count": null,
   "metadata": {},
   "outputs": [],
   "source": []
  },
  {
   "cell_type": "code",
   "execution_count": 86,
   "metadata": {
    "scrolled": true
   },
   "outputs": [],
   "source": [
    "import tensorflow as tf\n",
    "(x_train, y_train), (x_test, y_test) = tf.keras.datasets.mnist.load_data()"
   ]
  },
  {
   "cell_type": "code",
   "execution_count": 87,
   "metadata": {},
   "outputs": [
    {
     "name": "stdout",
     "output_type": "stream",
     "text": [
      "x_train shape: (60000, 28, 28, 1)\n",
      "Number of images in x_train 60000\n",
      "Number of images in x_test 10000\n"
     ]
    }
   ],
   "source": [
    "# Reshaping the array to 4-dims so that it can work with the Keras API\n",
    "x_train = x_train.reshape(x_train.shape[0], 28, 28, 1)\n",
    "x_test = x_test.reshape(x_test.shape[0], 28, 28, 1)\n",
    "input_shape = (28, 28, 1)\n",
    "# Making sure that the values are float so that we can get decimal points after division\n",
    "x_train = x_train.astype('float32')\n",
    "x_test = x_test.astype('float32')\n",
    "# Normalizing the RGB codes by dividing it to the max RGB value.\n",
    "x_train /= 255\n",
    "x_test /= 255\n",
    "print('x_train shape:', x_train.shape)\n",
    "print('Number of images in x_train', x_train.shape[0])\n",
    "print('Number of images in x_test', x_test.shape[0])"
   ]
  },
  {
   "cell_type": "code",
   "execution_count": 89,
   "metadata": {},
   "outputs": [],
   "source": [
    "# Importing the required Keras modules containing model and layers\n",
    "from keras.models import Sequential\n",
    "from keras.layers import Dense, Conv2D, Dropout, Flatten, MaxPooling2D\n",
    "# Creating a Sequential Model and adding the layers\n",
    "model = Sequential()\n",
    "model.add(Conv2D(28, kernel_size=(3,3), input_shape=input_shape))\n",
    "model.add(MaxPooling2D(pool_size=(2, 2)))\n",
    "model.add(Flatten()) # Flattening the 2D arrays for fully connected layers\n",
    "model.add(Dense(128, activation=tf.nn.relu))\n",
    "model.add(Dropout(0.2))\n",
    "model.add(Dense(10,activation=tf.nn.softmax))"
   ]
  },
  {
   "cell_type": "code",
   "execution_count": 90,
   "metadata": {},
   "outputs": [
    {
     "name": "stdout",
     "output_type": "stream",
     "text": [
      "Epoch 1/10\n",
      "60000/60000 [==============================] - 13s 222us/step - loss: 0.2150 - acc: 0.9345\n",
      "Epoch 2/10\n",
      " 7712/60000 [==>...........................] - ETA: 10s - loss: 0.0933 - acc: 0.9721"
     ]
    },
    {
     "ename": "KeyboardInterrupt",
     "evalue": "",
     "output_type": "error",
     "traceback": [
      "\u001b[1;31m---------------------------------------------------------------------------\u001b[0m",
      "\u001b[1;31mKeyboardInterrupt\u001b[0m                         Traceback (most recent call last)",
      "\u001b[1;32m<ipython-input-90-3225cef7aa51>\u001b[0m in \u001b[0;36m<module>\u001b[1;34m()\u001b[0m\n\u001b[0;32m      2\u001b[0m               \u001b[0mloss\u001b[0m\u001b[1;33m=\u001b[0m\u001b[1;34m'sparse_categorical_crossentropy'\u001b[0m\u001b[1;33m,\u001b[0m\u001b[1;33m\u001b[0m\u001b[0m\n\u001b[0;32m      3\u001b[0m               metrics=['accuracy'])\n\u001b[1;32m----> 4\u001b[1;33m \u001b[0mmodel\u001b[0m\u001b[1;33m.\u001b[0m\u001b[0mfit\u001b[0m\u001b[1;33m(\u001b[0m\u001b[0mx\u001b[0m\u001b[1;33m=\u001b[0m\u001b[0mx_train\u001b[0m\u001b[1;33m,\u001b[0m\u001b[0my\u001b[0m\u001b[1;33m=\u001b[0m\u001b[0my_train\u001b[0m\u001b[1;33m,\u001b[0m \u001b[0mepochs\u001b[0m\u001b[1;33m=\u001b[0m\u001b[1;36m10\u001b[0m\u001b[1;33m)\u001b[0m\u001b[1;33m\u001b[0m\u001b[0m\n\u001b[0m",
      "\u001b[1;32mC:\\ProgramData\\Anaconda3\\lib\\site-packages\\keras\\engine\\training.py\u001b[0m in \u001b[0;36mfit\u001b[1;34m(self, x, y, batch_size, epochs, verbose, callbacks, validation_split, validation_data, shuffle, class_weight, sample_weight, initial_epoch, steps_per_epoch, validation_steps, **kwargs)\u001b[0m\n\u001b[0;32m   1037\u001b[0m                                         \u001b[0minitial_epoch\u001b[0m\u001b[1;33m=\u001b[0m\u001b[0minitial_epoch\u001b[0m\u001b[1;33m,\u001b[0m\u001b[1;33m\u001b[0m\u001b[0m\n\u001b[0;32m   1038\u001b[0m                                         \u001b[0msteps_per_epoch\u001b[0m\u001b[1;33m=\u001b[0m\u001b[0msteps_per_epoch\u001b[0m\u001b[1;33m,\u001b[0m\u001b[1;33m\u001b[0m\u001b[0m\n\u001b[1;32m-> 1039\u001b[1;33m                                         validation_steps=validation_steps)\n\u001b[0m\u001b[0;32m   1040\u001b[0m \u001b[1;33m\u001b[0m\u001b[0m\n\u001b[0;32m   1041\u001b[0m     def evaluate(self, x=None, y=None,\n",
      "\u001b[1;32mC:\\ProgramData\\Anaconda3\\lib\\site-packages\\keras\\engine\\training_arrays.py\u001b[0m in \u001b[0;36mfit_loop\u001b[1;34m(model, f, ins, out_labels, batch_size, epochs, verbose, callbacks, val_f, val_ins, shuffle, callback_metrics, initial_epoch, steps_per_epoch, validation_steps)\u001b[0m\n\u001b[0;32m    197\u001b[0m                     \u001b[0mins_batch\u001b[0m\u001b[1;33m[\u001b[0m\u001b[0mi\u001b[0m\u001b[1;33m]\u001b[0m \u001b[1;33m=\u001b[0m \u001b[0mins_batch\u001b[0m\u001b[1;33m[\u001b[0m\u001b[0mi\u001b[0m\u001b[1;33m]\u001b[0m\u001b[1;33m.\u001b[0m\u001b[0mtoarray\u001b[0m\u001b[1;33m(\u001b[0m\u001b[1;33m)\u001b[0m\u001b[1;33m\u001b[0m\u001b[0m\n\u001b[0;32m    198\u001b[0m \u001b[1;33m\u001b[0m\u001b[0m\n\u001b[1;32m--> 199\u001b[1;33m                 \u001b[0mouts\u001b[0m \u001b[1;33m=\u001b[0m \u001b[0mf\u001b[0m\u001b[1;33m(\u001b[0m\u001b[0mins_batch\u001b[0m\u001b[1;33m)\u001b[0m\u001b[1;33m\u001b[0m\u001b[0m\n\u001b[0m\u001b[0;32m    200\u001b[0m                 \u001b[0mouts\u001b[0m \u001b[1;33m=\u001b[0m \u001b[0mto_list\u001b[0m\u001b[1;33m(\u001b[0m\u001b[0mouts\u001b[0m\u001b[1;33m)\u001b[0m\u001b[1;33m\u001b[0m\u001b[0m\n\u001b[0;32m    201\u001b[0m                 \u001b[1;32mfor\u001b[0m \u001b[0ml\u001b[0m\u001b[1;33m,\u001b[0m \u001b[0mo\u001b[0m \u001b[1;32min\u001b[0m \u001b[0mzip\u001b[0m\u001b[1;33m(\u001b[0m\u001b[0mout_labels\u001b[0m\u001b[1;33m,\u001b[0m \u001b[0mouts\u001b[0m\u001b[1;33m)\u001b[0m\u001b[1;33m:\u001b[0m\u001b[1;33m\u001b[0m\u001b[0m\n",
      "\u001b[1;32mC:\\ProgramData\\Anaconda3\\lib\\site-packages\\keras\\backend\\tensorflow_backend.py\u001b[0m in \u001b[0;36m__call__\u001b[1;34m(self, inputs)\u001b[0m\n\u001b[0;32m   2713\u001b[0m                 \u001b[1;32mreturn\u001b[0m \u001b[0mself\u001b[0m\u001b[1;33m.\u001b[0m\u001b[0m_legacy_call\u001b[0m\u001b[1;33m(\u001b[0m\u001b[0minputs\u001b[0m\u001b[1;33m)\u001b[0m\u001b[1;33m\u001b[0m\u001b[0m\n\u001b[0;32m   2714\u001b[0m \u001b[1;33m\u001b[0m\u001b[0m\n\u001b[1;32m-> 2715\u001b[1;33m             \u001b[1;32mreturn\u001b[0m \u001b[0mself\u001b[0m\u001b[1;33m.\u001b[0m\u001b[0m_call\u001b[0m\u001b[1;33m(\u001b[0m\u001b[0minputs\u001b[0m\u001b[1;33m)\u001b[0m\u001b[1;33m\u001b[0m\u001b[0m\n\u001b[0m\u001b[0;32m   2716\u001b[0m         \u001b[1;32melse\u001b[0m\u001b[1;33m:\u001b[0m\u001b[1;33m\u001b[0m\u001b[0m\n\u001b[0;32m   2717\u001b[0m             \u001b[1;32mif\u001b[0m \u001b[0mpy_any\u001b[0m\u001b[1;33m(\u001b[0m\u001b[0mis_tensor\u001b[0m\u001b[1;33m(\u001b[0m\u001b[0mx\u001b[0m\u001b[1;33m)\u001b[0m \u001b[1;32mfor\u001b[0m \u001b[0mx\u001b[0m \u001b[1;32min\u001b[0m \u001b[0minputs\u001b[0m\u001b[1;33m)\u001b[0m\u001b[1;33m:\u001b[0m\u001b[1;33m\u001b[0m\u001b[0m\n",
      "\u001b[1;32mC:\\ProgramData\\Anaconda3\\lib\\site-packages\\keras\\backend\\tensorflow_backend.py\u001b[0m in \u001b[0;36m_call\u001b[1;34m(self, inputs)\u001b[0m\n\u001b[0;32m   2673\u001b[0m             \u001b[0mfetched\u001b[0m \u001b[1;33m=\u001b[0m \u001b[0mself\u001b[0m\u001b[1;33m.\u001b[0m\u001b[0m_callable_fn\u001b[0m\u001b[1;33m(\u001b[0m\u001b[1;33m*\u001b[0m\u001b[0marray_vals\u001b[0m\u001b[1;33m,\u001b[0m \u001b[0mrun_metadata\u001b[0m\u001b[1;33m=\u001b[0m\u001b[0mself\u001b[0m\u001b[1;33m.\u001b[0m\u001b[0mrun_metadata\u001b[0m\u001b[1;33m)\u001b[0m\u001b[1;33m\u001b[0m\u001b[0m\n\u001b[0;32m   2674\u001b[0m         \u001b[1;32melse\u001b[0m\u001b[1;33m:\u001b[0m\u001b[1;33m\u001b[0m\u001b[0m\n\u001b[1;32m-> 2675\u001b[1;33m             \u001b[0mfetched\u001b[0m \u001b[1;33m=\u001b[0m \u001b[0mself\u001b[0m\u001b[1;33m.\u001b[0m\u001b[0m_callable_fn\u001b[0m\u001b[1;33m(\u001b[0m\u001b[1;33m*\u001b[0m\u001b[0marray_vals\u001b[0m\u001b[1;33m)\u001b[0m\u001b[1;33m\u001b[0m\u001b[0m\n\u001b[0m\u001b[0;32m   2676\u001b[0m         \u001b[1;32mreturn\u001b[0m \u001b[0mfetched\u001b[0m\u001b[1;33m[\u001b[0m\u001b[1;33m:\u001b[0m\u001b[0mlen\u001b[0m\u001b[1;33m(\u001b[0m\u001b[0mself\u001b[0m\u001b[1;33m.\u001b[0m\u001b[0moutputs\u001b[0m\u001b[1;33m)\u001b[0m\u001b[1;33m]\u001b[0m\u001b[1;33m\u001b[0m\u001b[0m\n\u001b[0;32m   2677\u001b[0m \u001b[1;33m\u001b[0m\u001b[0m\n",
      "\u001b[1;32m~\\AppData\\Roaming\\Python\\Python36\\site-packages\\tensorflow\\python\\client\\session.py\u001b[0m in \u001b[0;36m__call__\u001b[1;34m(self, *args, **kwargs)\u001b[0m\n\u001b[0;32m   1380\u001b[0m           ret = tf_session.TF_SessionRunCallable(\n\u001b[0;32m   1381\u001b[0m               \u001b[0mself\u001b[0m\u001b[1;33m.\u001b[0m\u001b[0m_session\u001b[0m\u001b[1;33m.\u001b[0m\u001b[0m_session\u001b[0m\u001b[1;33m,\u001b[0m \u001b[0mself\u001b[0m\u001b[1;33m.\u001b[0m\u001b[0m_handle\u001b[0m\u001b[1;33m,\u001b[0m \u001b[0margs\u001b[0m\u001b[1;33m,\u001b[0m \u001b[0mstatus\u001b[0m\u001b[1;33m,\u001b[0m\u001b[1;33m\u001b[0m\u001b[0m\n\u001b[1;32m-> 1382\u001b[1;33m               run_metadata_ptr)\n\u001b[0m\u001b[0;32m   1383\u001b[0m         \u001b[1;32mif\u001b[0m \u001b[0mrun_metadata\u001b[0m\u001b[1;33m:\u001b[0m\u001b[1;33m\u001b[0m\u001b[0m\n\u001b[0;32m   1384\u001b[0m           \u001b[0mproto_data\u001b[0m \u001b[1;33m=\u001b[0m \u001b[0mtf_session\u001b[0m\u001b[1;33m.\u001b[0m\u001b[0mTF_GetBuffer\u001b[0m\u001b[1;33m(\u001b[0m\u001b[0mrun_metadata_ptr\u001b[0m\u001b[1;33m)\u001b[0m\u001b[1;33m\u001b[0m\u001b[0m\n",
      "\u001b[1;31mKeyboardInterrupt\u001b[0m: "
     ]
    }
   ],
   "source": [
    "model.compile(optimizer='adam', \n",
    "              loss='sparse_categorical_crossentropy', \n",
    "              metrics=['accuracy'])\n",
    "model.fit(x=x_train,y=y_train, epochs=10)"
   ]
  },
  {
   "cell_type": "code",
   "execution_count": null,
   "metadata": {},
   "outputs": [],
   "source": []
  }
 ],
 "metadata": {
  "kernelspec": {
   "display_name": "Python 3",
   "language": "python",
   "name": "python3"
  },
  "language_info": {
   "codemirror_mode": {
    "name": "ipython",
    "version": 3
   },
   "file_extension": ".py",
   "mimetype": "text/x-python",
   "name": "python",
   "nbconvert_exporter": "python",
   "pygments_lexer": "ipython3",
   "version": "3.6.5"
  }
 },
 "nbformat": 4,
 "nbformat_minor": 1
}

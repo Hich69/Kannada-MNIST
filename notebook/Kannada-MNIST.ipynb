{
 "cells": [
  {
   "cell_type": "markdown",
   "metadata": {},
   "source": [
    "# Load modules"
   ]
  },
  {
   "cell_type": "code",
   "execution_count": 3,
   "metadata": {},
   "outputs": [],
   "source": [
    "import numpy as np\n",
    "import pandas as pd\n",
    "import os, sys, cv2, pickle\n",
    "from PIL import Image,ImageOps\n",
    "import matplotlib.pyplot as plt\n",
    "from progressbar import ProgressBar\n",
    "import random, itertools\n",
    "import seaborn as sns\n",
    "from sklearn.preprocessing import StandardScaler\n",
    "from sklearn import preprocessing, model_selection, metrics, feature_selection\n",
    "from sklearn import neighbors, linear_model, svm, tree, ensemble\n",
    "from sklearn.model_selection import GridSearchCV, learning_curve, train_test_split\n",
    "from sklearn.metrics import confusion_matrix\n",
    "from sklearn.metrics import accuracy_score, make_scorer, hamming_loss\n",
    "\n",
    "from keras.utils import to_categorical\n",
    "from keras.models import Model\n",
    "from keras import regularizers\n",
    "import keras.utils.np_utils as kutils\n",
    "from keras.preprocessing.image import ImageDataGenerator\n",
    "\n",
    "import tensorflow as tf\n",
    "config = tf.ConfigProto()\n",
    "config.gpu_options.allow_growth = True\n",
    "sess = tf.Session(config=config)\n",
    "\n",
    "sess = tf.Session(config=tf.ConfigProto(log_device_placement=True))"
   ]
  },
  {
   "cell_type": "markdown",
   "metadata": {},
   "source": [
    "# Load datasets"
   ]
  },
  {
   "cell_type": "code",
   "execution_count": 4,
   "metadata": {},
   "outputs": [],
   "source": [
    "train = pd.read_csv(\"../data/train.csv\", sep=\",\")\n",
    "test = pd.read_csv(\"../data/test.csv\", sep=\",\")\n",
    "dig_mnist = pd.read_csv(\"../data/Dig-MNIST.csv\", sep=\",\")\n",
    "sample_submission = pd.read_csv(\"../data/sample_submission.csv\", sep=\",\")"
   ]
  },
  {
   "cell_type": "markdown",
   "metadata": {},
   "source": [
    "# Get Class to create array for model"
   ]
  },
  {
   "cell_type": "code",
   "execution_count": 5,
   "metadata": {},
   "outputs": [],
   "source": [
    "class Create_Array:\n",
    "    def __init__(self, data, random_sample, random_state):\n",
    "        self.random_sample = random_sample\n",
    "        self.random_state = random_state\n",
    "        if random_sample == 1: self.data = data\n",
    "        else:\n",
    "            train_X, test_X, train_y, test_y = \\\n",
    "            train_test_split(data, data.label, test_size=random_sample, random_state=random_state, stratify=data.label)\n",
    "            test_X['label'] = test_y\n",
    "            self.data = test_X.reset_index(drop=\"index\")\n",
    "    def split_data(self, test_size, to_category):\n",
    "        self.test_size = test_size\n",
    "        train_X, test_X, train_y, test_y = \\\n",
    "        train_test_split(self.data.drop(columns=\"label\"), self.data.label, test_size=test_size, random_state=self.random_state, stratify=self.data.label)\n",
    "        train_X = train_X.reset_index(drop='index')\n",
    "        self.train_X = self.change_format_X(train_X)\n",
    "        test_X = test_X.reset_index(drop='index')\n",
    "        self.test_X = self.change_format_X(test_X)\n",
    "        train_y = train_y.reset_index(drop='index')\n",
    "        self.train_y = self.change_format_y(train_y, to_category)\n",
    "        test_y = test_y.reset_index(drop='index')\n",
    "        self.test_y = self.change_format_y(test_y, to_category)\n",
    "    def get_pie_chart(self, figsize):\n",
    "        label_dict = dict()\n",
    "        label_count = self.data.label.value_counts()\n",
    "        for k in label_count.index:\n",
    "            label_dict[label_count.index[k]] = label_count[k]\n",
    "        \n",
    "        def func(pct, allvals):\n",
    "            absolute = int(pct/100.*np.sum(allvals))\n",
    "            return \"{:0.0f}\\n{:0.2f} %\".format(absolute, pct)\n",
    "        \n",
    "        data = list(label_dict.values())\n",
    "        \n",
    "        fig, ax = plt.subplots(figsize=figsize, subplot_kw=dict(aspect=\"equal\"))\n",
    "        wedges, texts, autotexts = ax.pie(data, autopct=lambda pct: func(pct, data),\n",
    "                                          textprops=dict(color=\"w\"))\n",
    "        ax.legend(wedges, label_dict.keys(),\n",
    "                  title=\"Labels\",\n",
    "                  loc=\"center left\",\n",
    "                  bbox_to_anchor=(1, 0, 0.5, 1))\n",
    "        return fig\n",
    "    def show_one_image(self, figsize):\n",
    "        plt.figure(figsize=figsize)\n",
    "        ind = random.sample(k=1, population=set(self.data.index))\n",
    "        img = self.data.loc[ind[0]][\"pixel0\":].values.reshape(28,28)\n",
    "        plt.imshow(img)\n",
    "        plt.title(\"label : {}\".format(self.data.loc[ind[0]][\"label\"]))\n",
    "        return plt\n",
    "    def show_multiple_images(self, seed, figsize, show_plot):\n",
    "        random.seed(seed)\n",
    "        num_dict = dict()\n",
    "        for num in range(10):\n",
    "            ind = random.sample(k=1, population=set(self.data.loc[self.data.label==num].index))\n",
    "            num_dict[self.data.label[ind[0]]] = self.data.loc[ind[0]][\"pixel0\":].values.reshape(28,28)\n",
    "        self.num_dict = num_dict\n",
    "        if show_plot:\n",
    "            fig = plt.figure(figsize=figsize)\n",
    "            for k,v in num_dict.items():\n",
    "                ax = fig.add_subplot(5, 5, 1 + k)\n",
    "                ax.imshow(num_dict[k])\n",
    "                ax.title.set_text(\"label : {}\".format(k))\n",
    "    def change_format_X(self, data):\n",
    "        #return data.values.reshape(data.shape[0], 28, 28, 1)\n",
    "        return data.values.reshape(data.shape[0], 28, 28).reshape(data.shape[0], 28, 28, 1)\n",
    "    def change_format_y(self, data, to_category):\n",
    "        self.to_category = to_category\n",
    "        #pbar = ProgressBar()\n",
    "        #data_copy = data.copy()\n",
    "        y = []\n",
    "        if to_category:\n",
    "            for k in data.index:\n",
    "                y.append([data.loc[k]])\n",
    "            y = to_categorical(y)\n",
    "        else:\n",
    "            for k in data.index:\n",
    "                y.append(data.loc[k])\n",
    "            y = np.array(y)\n",
    "        return y"
   ]
  },
  {
   "cell_type": "code",
   "execution_count": 6,
   "metadata": {},
   "outputs": [
    {
     "data": {
      "image/png": "[encoded data removed]",
      "text/plain": [
       "<Figure size 720x504 with 1 Axes>"
      ]
     },
     "metadata": {},
     "output_type": "display_data"
    }
   ],
   "source": [
    "dat = Create_Array(train, 1, 123)\n",
    "_ = dat.get_pie_chart(figsize=(10,7))"
   ]
  },
  {
   "cell_type": "code",
   "execution_count": 7,
   "metadata": {},
   "outputs": [
    {
     "data": {
      "image/png": "[encoded data removed]",
      "text/plain": [
       "<Figure size 216x216 with 1 Axes>"
      ]
     },
     "metadata": {},
     "output_type": "display_data"
    }
   ],
   "source": [
    "_ = dat.show_one_image(figsize=(3,3))"
   ]
  },
  {
   "cell_type": "code",
   "execution_count": 8,
   "metadata": {},
   "outputs": [
    {
     "data": {
      "image/png": "[encoded data removed]",
      "text/plain": [
       "<Figure size 1080x1296 with 10 Axes>"
      ]
     },
     "metadata": {},
     "output_type": "display_data"
    }
   ],
   "source": [
    "dat.show_multiple_images(figsize=(15,18), seed=93, show_plot=True)"
   ]
  },
  {
   "cell_type": "code",
   "execution_count": 9,
   "metadata": {},
   "outputs": [],
   "source": [
    "# split the dataset\n",
    "dat.split_data(test_size=0.15, to_category=False)"
   ]
  },
  {
   "cell_type": "code",
   "execution_count": 10,
   "metadata": {},
   "outputs": [
    {
     "name": "stdout",
     "output_type": "stream",
     "text": [
      "dimension of train : (51000, 28, 28, 1)\n",
      "dimension of test : (9000, 28, 28, 1)\n"
     ]
    }
   ],
   "source": [
    "print(\"dimension of train : {}\".format(dat.train_X.shape))\n",
    "print(\"dimension of test : {}\".format(dat.test_X.shape))"
   ]
  },
  {
   "cell_type": "markdown",
   "metadata": {},
   "source": [
    "# Create model of cnn"
   ]
  },
  {
   "cell_type": "code",
   "execution_count": 11,
   "metadata": {},
   "outputs": [],
   "source": [
    "# History plot\n",
    "def history_plot(history):\n",
    "    acc = history.history['accuracy']\n",
    "    val_acc = history.history['val_accuracy']\n",
    "    loss = history.history['loss']\n",
    "    val_loss = history.history['val_loss']\n",
    "    \n",
    "    epochs = range(len(acc))\n",
    "    \n",
    "    plt.figure(figsize=(10,5))\n",
    "    plt.subplot(1, 2, 1)\n",
    "    plt.plot(epochs, acc, 'b', label='Training acc')\n",
    "    plt.plot(epochs, val_acc, 'r', label='Validation acc')\n",
    "    plt.title('Training and validation accuracy')\n",
    "    plt.xlabel(\"epochs\")\n",
    "    plt.ylabel(\"accuracy\")\n",
    "    plt.legend()\n",
    "    plt.grid(True)\n",
    "    \n",
    "    #plt.figure()\n",
    "    \n",
    "    plt.subplot(1, 2, 2)\n",
    "    plt.plot(epochs, loss, 'b', label='Training loss')\n",
    "    plt.plot(epochs, val_loss, 'r', label='Validation loss')\n",
    "    plt.title('Training and validation loss')\n",
    "    plt.xlabel(\"epochs\")\n",
    "    plt.ylabel(\"loss\")\n",
    "    plt.legend()\n",
    "    plt.grid(True)\n",
    "    \n",
    "    #plt.show()\n",
    "    return plt"
   ]
  },
  {
   "cell_type": "code",
   "execution_count": 12,
   "metadata": {},
   "outputs": [],
   "source": [
    "# Confusion matrix\n",
    "def get_confusion_matrix(Y, y_pred, figsize=(7,7), dpi=90, normalize=False, cmap=plt.cm.Blues):\n",
    "        cnf_matrix = confusion_matrix(Y, y_pred)\n",
    "        acc = metrics.accuracy_score(Y, y_pred)\n",
    "        \n",
    "        if normalize:\n",
    "            cnf_matrix = cnf_matrix.astype('float') / cnf_matrix.sum(axis=1)[:, np.newaxis]\n",
    "            print(\"Normalized confusion matrix\")\n",
    "        else:\n",
    "            print('Confusion matrix, without normalization')\n",
    "        \n",
    "        plt.figure(figsize=figsize, dpi=dpi)\n",
    "        plt.imshow(cnf_matrix, interpolation='nearest', cmap=cmap)\n",
    "        title = 'Confusion matrix\\nAccuracy : {} %'.format(np.round(100*acc,2))\n",
    "        plt.title(title)\n",
    "        plt.colorbar()\n",
    "        tick_marks = np.arange(10)\n",
    "        xtick = [t for t in range(10)]\n",
    "        plt.xticks(tick_marks, xtick, rotation=0)\n",
    "        plt.yticks(tick_marks, xtick)\n",
    "        \n",
    "        fmt = '.2f' if normalize else 'd'\n",
    "        thresh = cnf_matrix.max() / 2.\n",
    "        for i, j in itertools.product(range(cnf_matrix.shape[0]), range(cnf_matrix.shape[1])):\n",
    "            plt.text(j, i, format(cnf_matrix[i, j], fmt),\n",
    "                     horizontalalignment=\"center\",\n",
    "                     color=\"white\" if cnf_matrix[i, j] > thresh else \"black\")\n",
    "        \n",
    "        plt.tight_layout()\n",
    "        plt.ylabel('True label')\n",
    "        plt.xlabel('Predicted label')\n",
    "        return plt"
   ]
  },
  {
   "cell_type": "code",
   "execution_count": 13,
   "metadata": {},
   "outputs": [],
   "source": [
    "import skimage.transform\n",
    "import skimage.util\n",
    "from skimage.io import imread\n",
    "\n",
    "def rotation_and_shear(img, rotation_angle=15, shear_angle=30):\n",
    "    img = skimage.transform.rotate(img, np.random.randint(-rotation_angle, rotation_angle))\n",
    "    tf_shift = skimage.transform.SimilarityTransform(translation=(-14, -14))\n",
    "    tf_inv_shift = skimage.transform.SimilarityTransform(translation=(14, 14))\n",
    "    tf_shear = skimage.transform.AffineTransform(shear=np.deg2rad(np.random.randint(-shear_angle, shear_angle)))\n",
    "    img = skimage.transform.warp(img, (tf_shift + (tf_shear + tf_inv_shift)).inverse)\n",
    "    return img\n",
    "\n",
    "def shift_pixels(img, shift_range=1):\n",
    "    tf_shift = skimage.transform.SimilarityTransform(translation=(np.random.randint(-shift_range, shift_range), np.random.randint(-shift_range, shift_range)))\n",
    "    img = skimage.transform.warp(img, tf_shift)\n",
    "    return img\n",
    "\n",
    "def add_noise(img, gauss_var=0.02):\n",
    "    #img = skimage.util.random_noise(img, mode='pepper', amount=0.1)\n",
    "    img = skimage.util.random_noise(img, mode='gaussian', var=gauss_var)\n",
    "    return img\n",
    "\n",
    "def batch_generator(trainX, trainY, batch_size):\n",
    "    while True:\n",
    "        idxs = np.arange(0, trainY.shape[0])\n",
    "        np.random.shuffle(idxs)\n",
    "        for i in range(trainY.shape[0] // batch_size):\n",
    "            batchX = [trainX[idx] for idx in idxs[i * batch_size : (i+1) * batch_size]]\n",
    "            batchY = [trainY[idx] for idx in idxs[i * batch_size : (i+1) * batch_size]]\n",
    "            batchX = [add_noise(rotation_and_shear(img[0])) for img in batchX]\n",
    "            batchX = np.array(batchX)\n",
    "            batchX = batchX.reshape(batchX.shape[0], 1, batchX.shape[1], batchX.shape[2])\n",
    "            yield batchX, np.array(batchY)"
   ]
  },
  {
   "cell_type": "code",
   "execution_count": null,
   "metadata": {},
   "outputs": [],
   "source": []
  },
  {
   "cell_type": "code",
   "execution_count": null,
   "metadata": {},
   "outputs": [],
   "source": [
    "from keras.models import Sequential\n",
    "from keras.layers.core import Flatten, Dense, Dropout, Activation\n",
    "from keras.layers.convolutional import ZeroPadding2D, Convolution2D, MaxPooling2D, Conv2D\n",
    "from keras.layers import BatchNormalization\n",
    "\n",
    "model = Sequential()\n",
    "#model.add(ZeroPadding2D((2,2)))\n",
    "model.add(Conv2D(64,kernel_size=5,activation='relu',input_shape=(28,28,1),padding=\"same\"))\n",
    "model.add(ZeroPadding2D((2,2)))\n",
    "model.add(Conv2D(64,kernel_size=5,activation='relu'))\n",
    "model.add(MaxPooling2D(strides=(2,2)))\n",
    "\n",
    "model.add(ZeroPadding2D((2,2)))\n",
    "model.add(Conv2D(256,kernel_size=5,activation='relu',init='he_normal'))\n",
    "model.add(ZeroPadding2D((1,1)))\n",
    "model.add(Conv2D(256,kernel_size=3,activation='relu',init='he_normal'))\n",
    "model.add(MaxPooling2D(strides=(2,2)))\n",
    "model.add(Dropout(0.2))\n",
    "\n",
    "model.add(ZeroPadding2D((1,1)))\n",
    "model.add(Conv2D(512,kernel_size=3,activation='relu',init='he_normal'))\n",
    "model.add(Dropout(0.2))\n",
    "model.add(ZeroPadding2D((1,1)))\n",
    "model.add(Conv2D(512,kernel_size=3,activation='relu',init='he_normal'))\n",
    "model.add(MaxPooling2D(strides=(2,2)))\n",
    "model.add(Dropout(0.3))\n",
    "\n",
    "model.add(Flatten())\n",
    "\n",
    "model.add(Dense(1024, activation='relu', init='he_normal'))\n",
    "model.add(BatchNormalization())\n",
    "model.add(Dropout(0.5))\n",
    "\n",
    "model.add(Dense(2048, activation='relu', init='he_normal'))\n",
    "model.add(BatchNormalization())\n",
    "model.add(Dropout(0.25))\n",
    "\n",
    "model.add(Dense(10, activation='softmax'))"
   ]
  },
  {
   "cell_type": "code",
   "execution_count": null,
   "metadata": {},
   "outputs": [],
   "source": [
    "datagen = ImageDataGenerator(\n",
    "        featurewise_center=False,  # set input mean to 0 over the dataset\n",
    "        samplewise_center=False,  # set each sample mean to 0\n",
    "        featurewise_std_normalization=False,  # divide inputs by std of the dataset\n",
    "        samplewise_std_normalization=False,  # divide each input by its std\n",
    "        zca_whitening=False,  # apply ZCA whitening\n",
    "        rotation_range=15,  # randomly rotate images in the range (degrees, 0 to 180)\n",
    "        zoom_range = 0.2, # Randomly zoom image \n",
    "        shear_range=20, #move top of image along without moving the bottom or vice versa\n",
    "        width_shift_range=0.2,  # randomly shift images horizontally (fraction of total width)\n",
    "        height_shift_range=0.2,  # randomly shift images vertically (fraction of total height)\n",
    "        horizontal_flip=False,  # randomly flip images\n",
    "        vertical_flip=False,  # randomly flip images\n",
    "        data_format=\"channels_last\" #per theano convention, tensorflow is channels_first \n",
    "        )"
   ]
  },
  {
   "cell_type": "code",
   "execution_count": null,
   "metadata": {},
   "outputs": [],
   "source": [
    "### from keras.models import Sequential\n",
    "### from keras.layers import Dense, Conv2D, Dropout, Flatten, MaxPooling2D, BatchNormalization\n",
    "### # Creating a Sequential Model and adding the layers\n",
    "### model = Sequential()\n",
    "### \n",
    "### model.add(Conv2D(32,kernel_size=3,activation='relu',input_shape=(28,28,1)))\n",
    "### model.add(BatchNormalization())\n",
    "### model.add(Conv2D(32,kernel_size=3,activation='relu'))\n",
    "### model.add(BatchNormalization())\n",
    "### model.add(Conv2D(32,kernel_size=5,strides=2,padding='same',activation='relu'))\n",
    "### model.add(BatchNormalization())\n",
    "### model.add(Dropout(0.4))\n",
    "### \n",
    "### model.add(Conv2D(64,kernel_size=3,activation='relu'))\n",
    "### model.add(BatchNormalization())\n",
    "### model.add(Conv2D(64,kernel_size=3,activation='relu'))\n",
    "### model.add(BatchNormalization())\n",
    "### model.add(Conv2D(64,kernel_size=3,activation='relu'))\n",
    "### model.add(BatchNormalization())\n",
    "### model.add(Conv2D(64,kernel_size=3,activation='relu'))\n",
    "### model.add(BatchNormalization())\n",
    "### model.add(Conv2D(64,kernel_size=5,strides=2,padding='same',activation='relu'))\n",
    "### model.add(BatchNormalization())\n",
    "### model.add(Dropout(0.5))\n",
    "### \n",
    "### model.add(Flatten())\n",
    "### model.add(Dense(128, activation='relu', kernel_regularizer=regularizers.l2(l=0.0001)))\n",
    "### model.add(BatchNormalization())\n",
    "### model.add(Dropout(0.5))\n",
    "### model.add(Dense(10, activation='softmax'))"
   ]
  },
  {
   "cell_type": "code",
   "execution_count": null,
   "metadata": {},
   "outputs": [],
   "source": [
    "### # Reshaping the array to 4-dims so that it can work with the Keras API\n",
    "### x_train = dat.train_X\n",
    "### x_test = dat.test_X\n",
    "### y_train = dat.train_y\n",
    "### y_test = dat.test_y\n",
    "### input_shape = (1, 28, 28)\n",
    "### # Making sure that the values are float so that we can get decimal points after division\n",
    "### x_train = x_train.astype('float32')\n",
    "### x_test = x_test.astype('float32')\n",
    "### # Normalizing the RGB codes by dividing it to the max RGB value.\n",
    "### x_train /= 255\n",
    "### x_test /= 255"
   ]
  },
  {
   "cell_type": "code",
   "execution_count": null,
   "metadata": {},
   "outputs": [],
   "source": [
    "from __future__ import division\n",
    "import numpy as np\n",
    "\n",
    "import cv2\n",
    "\n",
    "import skimage.measure\n",
    "\n",
    "def crop_image(img, threshold=0):\n",
    "    rows = np.where(np.max(img, 0) > threshold)[0]\n",
    "    cols = np.where(np.max(img, 1) > threshold)[0]\n",
    "    img = img[cols[0]: cols[-1] + 1, rows[0]: rows[-1] + 1]\n",
    "    return img\n",
    "\n",
    "def get_square_image(img):\n",
    "    if img.shape[0] > img.shape[1]:\n",
    "        pad_up = (img.shape[0] - img.shape[1]) // 2\n",
    "        pad_bottom = np.ceil((img.shape[0] - img.shape[1]) / 2).astype('int32')\n",
    "        img = np.pad(img, ((0, 0), (pad_up, pad_bottom)), 'constant', constant_values=0)\n",
    "        return img\n",
    "    else:\n",
    "        pad_left = (img.shape[1] - img.shape[0]) // 2\n",
    "        pad_right = np.ceil((img.shape[1] - img.shape[0]) / 2).astype('int32')\n",
    "        img = np.pad(img, ((pad_left, pad_right), (0, 0)), 'constant', constant_values=0)\n",
    "        return img\n",
    "\n",
    "def add_padding(img, paddding_size=4):\n",
    "    return np.pad(img, ((paddding_size, paddding_size), (paddding_size, paddding_size)), 'constant', constant_values=0)\n",
    "\n",
    "# Aspect Ratio Adaptive Normalization\n",
    "def get_new_aspect_ratio(img):\n",
    "    if img.shape[0] > img.shape[1]:\n",
    "        return np.sqrt(np.sin((img.shape[1] / img.shape[0]) * (np.pi / 2)))\n",
    "    else:\n",
    "        return np.sqrt(np.sin((img.shape[0] / img.shape[1]) * (np.pi / 2)))\n",
    "\n",
    "def linear_normalization(img):\n",
    "    aspect_ratio = get_new_aspect_ratio(img)\n",
    "    new_size = 20\n",
    "    width = new_size if img.shape[0] > img.shape[1] else int(aspect_ratio * new_size)\n",
    "    height = new_size if img.shape[1] > img.shape[0] else int(aspect_ratio * new_size)\n",
    "    x_points = np.round(np.array(range(width)) * (float(img.shape[0]-1) / (width-1))).astype('int32')\n",
    "    y_points = np.round(np.array(range(height)) * (float(img.shape[1]-1) / (height-1))).astype('int32')\n",
    "    new_img = img[np.ix_(x_points, y_points)]\n",
    "    return new_img\n",
    "\n",
    "def lagrange_mapping(position, centroid, centroid2, orig_size, delta, delta2, deltacentroid):\n",
    "    lag = ((2 * orig_size) * (position**2 - 2*position*centroid + centroid2 + (delta*position - deltacentroid)/2) - (4*centroid) * (position**2 + centroid2 - (delta2/4) - 2*position*centroid)) / delta2\n",
    "    return lag\n",
    "\n",
    "def moment_normalization(img):\n",
    "    # moments\n",
    "    moments = skimage.measure.moments(img, 2)\n",
    "    centroid = [moments[0, 1] / moments[0, 0], moments[1, 0] / moments[0, 0]]\n",
    "    central_moments = skimage.measure.moments_central(img, centroid[0], centroid[1], 2)\n",
    "    delta_y = 4 * np.sqrt(central_moments[0, 2])\n",
    "    delta_x = 4 * np.sqrt(central_moments[2, 0])\n",
    "    delta_y2 = delta_y ** 2\n",
    "    delta_x2 = delta_x ** 2\n",
    "    delta_cent_y = delta_y * centroid[1]\n",
    "    delta_cent_x = delta_x * centroid[0]\n",
    "    centroid2 = np.power(centroid, 2)\n",
    "\n",
    "    # Calculate new width and height\n",
    "    aspect_ratio = get_new_aspect_ratio(img)\n",
    "    new_size = 20\n",
    "    width = new_size if img.shape[0] > img.shape[1] else int(aspect_ratio * new_size)\n",
    "    height = new_size if img.shape[1] > img.shape[0] else int(aspect_ratio * new_size)\n",
    "\n",
    "    x_points = np.array(range(width))\n",
    "    y_points = np.array(range(height))\n",
    "    xx = ((delta_x * (x_points - (width-1)/2)) / (width-1)) + centroid[0]\n",
    "    yy = ((delta_y * (y_points - (height-1)/2)) / (height-1)) + centroid[1] \n",
    "    xx = np.round(lagrange_mapping(xx, centroid[0], centroid2[0], img.shape[0]-1, delta_x, delta_x2, delta_cent_x)).astype('int32')\n",
    "    yy = np.round(lagrange_mapping(yy, centroid[1], centroid2[1], img.shape[1]-1, delta_y, delta_y2, delta_cent_y)).astype('int32')\n",
    "    xx = np.clip(xx, 0, img.shape[0]-1)\n",
    "    yy = np.clip(yy, 0, img.shape[1]-1)\n",
    "    new_img = img[np.ix_(xx, yy)]\n",
    "    return new_img\n",
    "\n",
    "def normalize_shape(img):\n",
    "    img = crop_image(img)\n",
    "    img = moment_normalization(img)\n",
    "    img = get_square_image(img)\n",
    "    img = add_padding(img)\n",
    "    return img\n",
    "\n",
    "def preprocess_image(img):\n",
    "    img = normalize_shape(img)\n",
    "    #img = cv2.GaussianBlur(img, (1, 1), 0)\n",
    "    return img"
   ]
  },
  {
   "cell_type": "code",
   "execution_count": null,
   "metadata": {},
   "outputs": [],
   "source": [
    "x_train = train.loc[:,\"pixel0\":].values.reshape(train.shape[0], 1, 28, 28)\n",
    "x_train = x_train.astype(float)\n",
    "x_train /= 255.0\n",
    "x_train = np.array([preprocess_image(x[0]).reshape(1, 28, 28) for x in x_train])\n",
    "\n",
    "print(x_train.shape)\n",
    "\n",
    "#y_train = kutils.to_categorical(train.label.values)\n",
    "#nb_classes = y_train.shape[1]\n",
    "y_train = train.label.values\n",
    "\n",
    "# Split the training data into training and validation data\n",
    "x_train, x_test, y_train, y_test = train_test_split(x_train, y_train, test_size=0.15, random_state=20191031)"
   ]
  },
  {
   "cell_type": "code",
   "execution_count": null,
   "metadata": {},
   "outputs": [],
   "source": []
  },
  {
   "cell_type": "code",
   "execution_count": null,
   "metadata": {
    "scrolled": true
   },
   "outputs": [],
   "source": [
    "# print the model\n",
    "model.summary()"
   ]
  },
  {
   "cell_type": "code",
   "execution_count": null,
   "metadata": {
    "scrolled": true
   },
   "outputs": [],
   "source": [
    "# fit the cnn model\n",
    "from keras.callbacks import ReduceLROnPlateau\n",
    "import keras.optimizers as opt\n",
    "\n",
    "def fit_model(model, epoch, batch_size):\n",
    "    # set up the optimizer\n",
    "    adam = opt.Adam(lr=0.001, beta_1=0.9, beta_2=0.999, epsilon=1e-08)\n",
    "    model.compile(optimizer=adam,\n",
    "                  loss='sparse_categorical_crossentropy',\n",
    "                  metrics=['accuracy'])\n",
    "    \n",
    "    # reduce the learning rate by factor of 0.5 if the validation loss does not get lower in 7 epochs\n",
    "    reduce_lr = ReduceLROnPlateau(monitor='val_loss', factor=0.5, patience=7, min_lr=0.0000001, verbose=1)\n",
    "    \n",
    "    history = model.fit_generator(datagen.flow(x_train.reshape(x_train.shape[0],28,28).reshape(x_train.shape[0],28,28,1),y_train,batch_size=batch_size), validation_data=(x_test.reshape(x_test.shape[0],28,28).reshape(x_test.shape[0],28,28,1), y_test),\n",
    "                                  samples_per_epoch=np.floor(y_train.shape[0] / batch_size) * batch_size,\n",
    "                                  nb_epoch=epoch, verbose=1, callbacks=[reduce_lr])\n",
    "    \n",
    "    #history = model.fit(x_train.reshape(x_train.shape[0],28,28).reshape(x_train.shape[0],28,28,1), y_train,\n",
    "    #                    nb_epoch=epoch,\n",
    "    #                    batch_size=batch_size,\n",
    "    #                    validation_data=(x_test.reshape(x_test.shape[0],28,28).reshape(x_test.shape[0],28,28,1), y_test),\n",
    "    #                    verbose=1)\n",
    "    return model, history"
   ]
  },
  {
   "cell_type": "code",
   "execution_count": null,
   "metadata": {
    "scrolled": true
   },
   "outputs": [],
   "source": [
    "model, history = fit_model(model=model, epoch=100, batch_size=64)"
   ]
  },
  {
   "cell_type": "code",
   "execution_count": null,
   "metadata": {},
   "outputs": [],
   "source": [
    "_ = history_plot(history)"
   ]
  },
  {
   "cell_type": "code",
   "execution_count": null,
   "metadata": {},
   "outputs": [],
   "source": [
    "print(\"evaluation in train : \")\n",
    "eval_train = model.evaluate(x_train.reshape(x_train.shape[0],28,28).reshape(x_train.shape[0],28,28,1), y_train)\n",
    "print(eval_train)\n",
    "print(\"evaluation in test : \")\n",
    "eval_test = model.evaluate(x_test.reshape(x_test.shape[0],28,28).reshape(x_test.shape[0],28,28,1), y_test)\n",
    "print(eval_test)"
   ]
  },
  {
   "cell_type": "code",
   "execution_count": null,
   "metadata": {},
   "outputs": [],
   "source": []
  },
  {
   "cell_type": "code",
   "execution_count": null,
   "metadata": {},
   "outputs": [],
   "source": [
    "from numpy import argmax\n",
    "# Confusion matrix in test\n",
    "predicted_test = model.predict_classes(x_test.reshape(x_test.shape[0],28,28).reshape(x_test.shape[0],28,28,1))\n",
    "_ = get_confusion_matrix(Y=y_test, y_pred=predicted_test, normalize=False, dpi=75, figsize=(7,7))"
   ]
  },
  {
   "cell_type": "code",
   "execution_count": null,
   "metadata": {},
   "outputs": [],
   "source": [
    "def show_multiple_images_predicted(num_dict, model, figsize):\n",
    "    label_predicted = dict()\n",
    "    for lab_ref,img in num_dict.items():\n",
    "        lab_pred = model.predict_classes(img.reshape(1, 28, 28).reshape(1, 28, 28, 1))[0]\n",
    "        label_predicted[lab_ref] = lab_pred\n",
    "    fig = plt.figure(figsize=figsize)\n",
    "    for l_ref,l_pred in label_predicted.items():\n",
    "        ax = fig.add_subplot(5, 5, 1 + l_ref)\n",
    "        ax.imshow(num_dict[l_ref])\n",
    "        ax.title.set_text(\"label : {}\\npredicted : {}\".format(l_ref,l_pred))"
   ]
  },
  {
   "cell_type": "code",
   "execution_count": null,
   "metadata": {},
   "outputs": [],
   "source": [
    "dat.show_multiple_images(figsize=(15,18), seed=1265439, show_plot=False)\n",
    "show_multiple_images_predicted(dat.num_dict, model, (15,20))"
   ]
  },
  {
   "cell_type": "code",
   "execution_count": null,
   "metadata": {},
   "outputs": [],
   "source": []
  },
  {
   "cell_type": "markdown",
   "metadata": {},
   "source": [
    "# Prediction on the test set"
   ]
  },
  {
   "cell_type": "code",
   "execution_count": null,
   "metadata": {},
   "outputs": [],
   "source": [
    "### test_to_predict = test.drop(columns=['id'])\n",
    "### test_to_predict = test_to_predict.astype('float32')\n",
    "### test_to_predict /= 255\n",
    "### \n",
    "### label_predicted = \\\n",
    "### model.predict_classes(test_to_predict.values.reshape(test_to_predict.shape[0], 28, 28).reshape(test_to_predict.shape[0], 28, 28, 1))\n",
    "### \n",
    "### test_predicted = test.copy()\n",
    "### test_predicted['label'] = label_predicted\n",
    "### \n",
    "### submission = test_predicted[[\"id\", \"label\"]]"
   ]
  },
  {
   "cell_type": "code",
   "execution_count": null,
   "metadata": {},
   "outputs": [],
   "source": [
    "test_to_predict = test.loc[:,\"pixel0\":].values.reshape(test.shape[0], 1, 28, 28)\n",
    "test_to_predict = test_to_predict.astype(float)\n",
    "test_to_predict /= 255.0\n",
    "test_to_predict = np.array([preprocess_image(x[0]).reshape(1, 28, 28) for x in test_to_predict])\n",
    "\n",
    "label_predicted = \\\n",
    "model.predict_classes(test_to_predict.reshape(test_to_predict.shape[0], 28, 28).reshape(test_to_predict.shape[0], 28, 28, 1))\n",
    "\n",
    "test_predicted = test.copy()\n",
    "test_predicted['label'] = label_predicted\n",
    "\n",
    "submission = test_predicted[[\"id\", \"label\"]]"
   ]
  },
  {
   "cell_type": "code",
   "execution_count": null,
   "metadata": {},
   "outputs": [],
   "source": [
    "submission.to_csv(\"submission.csv\", index=False)"
   ]
  },
  {
   "cell_type": "code",
   "execution_count": null,
   "metadata": {},
   "outputs": [],
   "source": [
    "submission.groupby(['label'])['label'].count()"
   ]
  },
  {
   "cell_type": "code",
   "execution_count": null,
   "metadata": {},
   "outputs": [],
   "source": [
    "def show_images_on_test(data, seed, figsize):\n",
    "    random.seed(seed)\n",
    "    ind = random.sample(k=10, population=set(data.id))\n",
    "    img = data.drop(columns=['id','label'])\n",
    "    label = data['label']\n",
    "    id_img = data['id']\n",
    "    fig = plt.figure(figsize=figsize)\n",
    "    for k in range(len(ind)):\n",
    "        ax = fig.add_subplot(5, 5, 1 + k)\n",
    "        img_k = img.loc[ind[k]].values.reshape(28,28)\n",
    "        ax.imshow(img_k)\n",
    "        ax.title.set_text(\"label : {}\\nid : {}\".format(label[ind[k]],id_img[ind[k]]))\n",
    "    return plt"
   ]
  },
  {
   "cell_type": "code",
   "execution_count": null,
   "metadata": {},
   "outputs": [],
   "source": [
    "_ = show_images_on_test(test_predicted, 99999, (15,18))"
   ]
  }
 ],
 "metadata": {
  "kernelspec": {
   "display_name": "Python 3",
   "language": "python",
   "name": "python3"
  },
  "language_info": {
   "codemirror_mode": {
    "name": "ipython",
    "version": 3
   },
   "file_extension": ".py",
   "mimetype": "text/x-python",
   "name": "python",
   "nbconvert_exporter": "python",
   "pygments_lexer": "ipython3",
   "version": "3.6.5"
  }
 },
 "nbformat": 4,
 "nbformat_minor": 1
}
